{
 "cells": [
  {
   "cell_type": "code",
   "execution_count": null,
   "id": "15035759-38d7-44b4-80a9-3f6d3bfeae28",
   "metadata": {},
   "outputs": [
    {
     "name": "stdout",
     "output_type": "stream",
     "text": [
      "file exists...\n"
     ]
    }
   ],
   "source": [
    "import os\n",
    "#import request\n",
    "\n",
    "pdf_path = \"Employment-Law.pdf\"\n",
    "\n",
    "if not os.path.exists(pdf_path):\n",
    "    print(f\"file does not exist...\")\n",
    "else:\n",
    "    print(f\"file exists...\")"
   ]
  },
  {
   "cell_type": "code",
   "execution_count": 2,
   "id": "a2ea1f4f-f2f6-4cf1-91f1-832235ff573d",
   "metadata": {},
   "outputs": [],
   "source": [
    "import fitz"
   ]
  },
  {
   "cell_type": "code",
   "execution_count": 3,
   "id": "1a659889-15c3-4bed-9499-2ef1191d50da",
   "metadata": {},
   "outputs": [
    {
     "data": {
      "application/vnd.jupyter.widget-view+json": {
       "model_id": "fb009fe8981e4032ae3eb898ea510775",
       "version_major": 2,
       "version_minor": 0
      },
      "text/plain": [
       "0it [00:00, ?it/s]"
      ]
     },
     "metadata": {},
     "output_type": "display_data"
    },
    {
     "data": {
      "text/plain": [
       "[{'page_number': -41,\n",
       "  'char_count': 28,\n",
       "  'page_word_count': 5,\n",
       "  'page_sentence_count_row': 1,\n",
       "  'page_token_count': 7.0,\n",
       "  'text': 'Employment Law in Egypt 2021'},\n",
       " {'page_number': -40,\n",
       "  'char_count': 0,\n",
       "  'page_word_count': 1,\n",
       "  'page_sentence_count_row': 1,\n",
       "  'page_token_count': 0.0,\n",
       "  'text': ''}]"
      ]
     },
     "execution_count": 3,
     "metadata": {},
     "output_type": "execute_result"
    }
   ],
   "source": [
    "from tqdm.auto import tqdm\n",
    "\n",
    "def text_formatter(text: str) -> str:\n",
    "    cleaned_text = text.replace(\"\\n\",\" \").strip()\n",
    "\n",
    "    return cleaned_text\n",
    "\n",
    "def open_and_read_pdf(pdf_path: str) -> list[dict]:\n",
    "    doc = fitz.open(pdf_path)\n",
    "    pages_and_text = []\n",
    "\n",
    "    for page_number, page in tqdm(enumerate(doc)):\n",
    "        text = page.get_text()\n",
    "        text = text_formatter(text)\n",
    "        pages_and_text.append({\"page_number\":page_number - 41,\n",
    "                                \"char_count\":len(text),\n",
    "                                \"page_word_count\":len(text.split(\" \")),\n",
    "                                \"page_sentence_count_row\":len(text.split(\". \")),\n",
    "                                \"page_token_count\":len(text)/4,\n",
    "                                \"text\":text})\n",
    "    return pages_and_text\n",
    "    \n",
    "pages_and_text = open_and_read_pdf(pdf_path)\n",
    "pages_and_text[:2]"
   ]
  },
  {
   "cell_type": "code",
   "execution_count": 4,
   "id": "0d0986ba-f9fa-4141-a727-9f36a26a3b0d",
   "metadata": {},
   "outputs": [
    {
     "data": {
      "text/plain": [
       "[{'page_number': -25,\n",
       "  'char_count': 3623,\n",
       "  'page_word_count': 675,\n",
       "  'page_sentence_count_row': 17,\n",
       "  'page_token_count': 905.75,\n",
       "  'text': '16 Employers  may  need  to  terminate  an  employment relationship for a myriad of reasons  from downsizing the company, to reprimanding  an employee who has not been performing well,  despite a number of warnings. We will discuss  the former scenario further on in the book, since  there are a particular set of rules governing the  execution of downsizing, however here we will be  looking at the general criteria for terminating an  employment relationship. As previously stated, a contract will generally  terminate with the expiry of its period, or  the accomplishment of the work it has been  concluded for. If the term of the contract is not  deﬁned by an agreement or by the type or work  or its purpose, either party may put an end to  this relationship by providing written notice  (2 months prior to termination if the worker’s  uninterrupted length of service does not exceed  ten years, and three months prior to the contract  termination if that period exceeds ten years  or more) to the other party. In all cases, the  notiﬁcation period cannot be reduced, however  it can be increased if both parties agree to this.  Likewise, if the contract is indeﬁnite, and one of  the parties revokes the agreement prior to the  end of the term or without giving appropriate  notice, then they must compensate the other  party for the remaining term or the notice period.  It should also be noted that an employment  contract shall remain valid throughout the  notiﬁcation period, meaning that both parties  are still bound by their duties and obligations  during this time. The law states that if the worker terminates the  employment of his own accord then the employer  must pay him his wage and all other amounts  due to him within a period not exceeding seven  days from the date the worker claims these dues.  Additionally, if the employer terminates the  Termination. labour contract without notiﬁcation or prior to  the end of the notiﬁcation period, he must pay  the worker an amount equivalent to his wage for  that period or the part remaining thereof. For the  purposes of Egyptian Labour Law, ‘all amounts  due’ means the employee’s wage, plus any other  additions to that wage as speciﬁed by the law,  namely bonuses, commission, performance  based  percentages,  increments,  bonuses,  allowances, workers proﬁt share and tips. In all cases an employer’s obligation for paying  the wage will not be discharged except after  the worker signs for the wage, in the register  provided for that purpose or in the payrolls, and  if the work relationship expires before the worker  uses up all his vacation days, he will be entitled  to the wage computed in lieu of that balance. Upon termination, the employer should give the  worker a certiﬁcate, free of charge, indicating  the date he joined the employer’s services, the  end of the service date, the type of work he  has performed and the beneﬁts he obtained.  The employee may also request a certiﬁcate  specifying his experience and indicating his level  of efﬁciency. The employer must also return  any papers, certiﬁcates or articles the worker  has deposited with him immediately upon his  request. Termination due to Death In Egypt a labour contract terminates upon  the death of an employee, however it does  not terminate upon the death of the employer,  unless the nature of the work stipulated in the  contract would be disrupted by his death. If the  employee dies whilst providing the agreed upon  services, the employer shall pay the family the  equivalent of two complete months’ wages for  funeral expenses, the combined total of which  0 6'},\n",
       " {'page_number': -39,\n",
       "  'char_count': 313,\n",
       "  'page_word_count': 103,\n",
       "  'page_sentence_count_row': 11,\n",
       "  'page_token_count': 78.25,\n",
       "  'text': 'Table of Contents. 0 1 . Introduction p a g e 4 0 3 . Wages p a g e  1 0 0 4 . Vacations p a g e  1 1 0 5 . Penalties p a g e  1 4 0 6 . Termination p a g e  1 6 0 2 . Contracts p a g e  7 p a g e  1 9 0 7 . Downsizing p a g e  2 1 0 8 . Employee  Representation p a g e  2 3 0 9 . Collective Labour Relationships'},\n",
       " {'page_number': 2,\n",
       "  'char_count': 457,\n",
       "  'page_word_count': 75,\n",
       "  'page_sentence_count_row': 3,\n",
       "  'page_token_count': 114.25,\n",
       "  'text': 'Contact Us Although this book provides a detailed analysis of the law and discusses some of its ambiguous  areas, it is important to note that the application of the law in a formal setting will require col- laboration with a professional to ensure its accuracy. Andersen Egypt employs a dedicated team of attorneys and accountants who specialize in Egyp- tian labour law, and employer tax obligations. Visit our website to ﬁnd out more: www.eg.andersen.com'}]"
      ]
     },
     "execution_count": 4,
     "metadata": {},
     "output_type": "execute_result"
    }
   ],
   "source": [
    "import random\n",
    "random.sample(pages_and_text,k=3)"
   ]
  },
  {
   "cell_type": "code",
   "execution_count": 5,
   "id": "3cf24858-e7c2-4d35-9833-1b75ac53566c",
   "metadata": {},
   "outputs": [
    {
     "data": {
      "text/html": [
       "<div>\n",
       "<style scoped>\n",
       "    .dataframe tbody tr th:only-of-type {\n",
       "        vertical-align: middle;\n",
       "    }\n",
       "\n",
       "    .dataframe tbody tr th {\n",
       "        vertical-align: top;\n",
       "    }\n",
       "\n",
       "    .dataframe thead th {\n",
       "        text-align: right;\n",
       "    }\n",
       "</style>\n",
       "<table border=\"1\" class=\"dataframe\">\n",
       "  <thead>\n",
       "    <tr style=\"text-align: right;\">\n",
       "      <th></th>\n",
       "      <th>page_number</th>\n",
       "      <th>char_count</th>\n",
       "      <th>page_word_count</th>\n",
       "      <th>page_sentence_count_row</th>\n",
       "      <th>page_token_count</th>\n",
       "      <th>text</th>\n",
       "    </tr>\n",
       "  </thead>\n",
       "  <tbody>\n",
       "    <tr>\n",
       "      <th>0</th>\n",
       "      <td>-41</td>\n",
       "      <td>28</td>\n",
       "      <td>5</td>\n",
       "      <td>1</td>\n",
       "      <td>7.00</td>\n",
       "      <td>Employment Law in Egypt 2021</td>\n",
       "    </tr>\n",
       "    <tr>\n",
       "      <th>1</th>\n",
       "      <td>-40</td>\n",
       "      <td>0</td>\n",
       "      <td>1</td>\n",
       "      <td>1</td>\n",
       "      <td>0.00</td>\n",
       "      <td></td>\n",
       "    </tr>\n",
       "    <tr>\n",
       "      <th>2</th>\n",
       "      <td>-39</td>\n",
       "      <td>313</td>\n",
       "      <td>103</td>\n",
       "      <td>11</td>\n",
       "      <td>78.25</td>\n",
       "      <td>Table of Contents. 0 1 . Introduction p a g e ...</td>\n",
       "    </tr>\n",
       "    <tr>\n",
       "      <th>3</th>\n",
       "      <td>-38</td>\n",
       "      <td>374</td>\n",
       "      <td>114</td>\n",
       "      <td>10</td>\n",
       "      <td>93.50</td>\n",
       "      <td>1 0 . Vocational Training p a g e  2 6 1 2 . C...</td>\n",
       "    </tr>\n",
       "    <tr>\n",
       "      <th>4</th>\n",
       "      <td>-37</td>\n",
       "      <td>3207</td>\n",
       "      <td>572</td>\n",
       "      <td>16</td>\n",
       "      <td>801.75</td>\n",
       "      <td>4 With a population of over 100 million and a ...</td>\n",
       "    </tr>\n",
       "  </tbody>\n",
       "</table>\n",
       "</div>"
      ],
      "text/plain": [
       "   page_number  char_count  page_word_count  page_sentence_count_row  \\\n",
       "0          -41          28                5                        1   \n",
       "1          -40           0                1                        1   \n",
       "2          -39         313              103                       11   \n",
       "3          -38         374              114                       10   \n",
       "4          -37        3207              572                       16   \n",
       "\n",
       "   page_token_count                                               text  \n",
       "0              7.00                       Employment Law in Egypt 2021  \n",
       "1              0.00                                                     \n",
       "2             78.25  Table of Contents. 0 1 . Introduction p a g e ...  \n",
       "3             93.50  1 0 . Vocational Training p a g e  2 6 1 2 . C...  \n",
       "4            801.75  4 With a population of over 100 million and a ...  "
      ]
     },
     "execution_count": 5,
     "metadata": {},
     "output_type": "execute_result"
    }
   ],
   "source": [
    "import pandas as pd\n",
    "\n",
    "df = pd.DataFrame(pages_and_text)\n",
    "df.head()"
   ]
  },
  {
   "cell_type": "code",
   "execution_count": 6,
   "id": "29094baf-b21b-425c-bac5-09bd1d9bde6b",
   "metadata": {},
   "outputs": [
    {
     "data": {
      "text/html": [
       "<div>\n",
       "<style scoped>\n",
       "    .dataframe tbody tr th:only-of-type {\n",
       "        vertical-align: middle;\n",
       "    }\n",
       "\n",
       "    .dataframe tbody tr th {\n",
       "        vertical-align: top;\n",
       "    }\n",
       "\n",
       "    .dataframe thead th {\n",
       "        text-align: right;\n",
       "    }\n",
       "</style>\n",
       "<table border=\"1\" class=\"dataframe\">\n",
       "  <thead>\n",
       "    <tr style=\"text-align: right;\">\n",
       "      <th></th>\n",
       "      <th>page_number</th>\n",
       "      <th>char_count</th>\n",
       "      <th>page_word_count</th>\n",
       "      <th>page_sentence_count_row</th>\n",
       "      <th>page_token_count</th>\n",
       "    </tr>\n",
       "  </thead>\n",
       "  <tbody>\n",
       "    <tr>\n",
       "      <th>count</th>\n",
       "      <td>45.00</td>\n",
       "      <td>45.00</td>\n",
       "      <td>45.00</td>\n",
       "      <td>45.00</td>\n",
       "      <td>45.00</td>\n",
       "    </tr>\n",
       "    <tr>\n",
       "      <th>mean</th>\n",
       "      <td>-19.00</td>\n",
       "      <td>2118.60</td>\n",
       "      <td>381.51</td>\n",
       "      <td>13.07</td>\n",
       "      <td>529.65</td>\n",
       "    </tr>\n",
       "    <tr>\n",
       "      <th>std</th>\n",
       "      <td>13.13</td>\n",
       "      <td>1258.17</td>\n",
       "      <td>223.10</td>\n",
       "      <td>7.37</td>\n",
       "      <td>314.54</td>\n",
       "    </tr>\n",
       "    <tr>\n",
       "      <th>min</th>\n",
       "      <td>-41.00</td>\n",
       "      <td>0.00</td>\n",
       "      <td>1.00</td>\n",
       "      <td>1.00</td>\n",
       "      <td>0.00</td>\n",
       "    </tr>\n",
       "    <tr>\n",
       "      <th>25%</th>\n",
       "      <td>-30.00</td>\n",
       "      <td>990.00</td>\n",
       "      <td>169.00</td>\n",
       "      <td>8.00</td>\n",
       "      <td>247.50</td>\n",
       "    </tr>\n",
       "    <tr>\n",
       "      <th>50%</th>\n",
       "      <td>-19.00</td>\n",
       "      <td>2604.00</td>\n",
       "      <td>456.00</td>\n",
       "      <td>14.00</td>\n",
       "      <td>651.00</td>\n",
       "    </tr>\n",
       "    <tr>\n",
       "      <th>75%</th>\n",
       "      <td>-8.00</td>\n",
       "      <td>3071.00</td>\n",
       "      <td>541.00</td>\n",
       "      <td>19.00</td>\n",
       "      <td>767.75</td>\n",
       "    </tr>\n",
       "    <tr>\n",
       "      <th>max</th>\n",
       "      <td>3.00</td>\n",
       "      <td>4009.00</td>\n",
       "      <td>716.00</td>\n",
       "      <td>27.00</td>\n",
       "      <td>1002.25</td>\n",
       "    </tr>\n",
       "  </tbody>\n",
       "</table>\n",
       "</div>"
      ],
      "text/plain": [
       "       page_number  char_count  page_word_count  page_sentence_count_row  \\\n",
       "count        45.00       45.00            45.00                    45.00   \n",
       "mean        -19.00     2118.60           381.51                    13.07   \n",
       "std          13.13     1258.17           223.10                     7.37   \n",
       "min         -41.00        0.00             1.00                     1.00   \n",
       "25%         -30.00      990.00           169.00                     8.00   \n",
       "50%         -19.00     2604.00           456.00                    14.00   \n",
       "75%          -8.00     3071.00           541.00                    19.00   \n",
       "max           3.00     4009.00           716.00                    27.00   \n",
       "\n",
       "       page_token_count  \n",
       "count             45.00  \n",
       "mean             529.65  \n",
       "std              314.54  \n",
       "min                0.00  \n",
       "25%              247.50  \n",
       "50%              651.00  \n",
       "75%              767.75  \n",
       "max             1002.25  "
      ]
     },
     "execution_count": 6,
     "metadata": {},
     "output_type": "execute_result"
    }
   ],
   "source": [
    "df.describe().round(2)"
   ]
  },
  {
   "cell_type": "code",
   "execution_count": 7,
   "id": "65212a7a-9cfb-42a4-b85f-8dc68bf844de",
   "metadata": {},
   "outputs": [
    {
     "data": {
      "text/plain": [
       "<spacy.pipeline.sentencizer.Sentencizer at 0x2ae215817c0>"
      ]
     },
     "execution_count": 7,
     "metadata": {},
     "output_type": "execute_result"
    }
   ],
   "source": [
    "from spacy.lang.en import English\n",
    "\n",
    "nlp = English()\n",
    "nlp.add_pipe(\"sentencizer\")"
   ]
  },
  {
   "cell_type": "code",
   "execution_count": 8,
   "id": "4e5e59a7-062c-4a99-94cf-9a1d9118b446",
   "metadata": {},
   "outputs": [
    {
     "data": {
      "text/plain": [
       "[hi., my name is xakaria., omak sa7bety.]"
      ]
     },
     "execution_count": 8,
     "metadata": {},
     "output_type": "execute_result"
    }
   ],
   "source": [
    "docs = nlp(\"hi. my name is xakaria. omak sa7bety.\")\n",
    "assert len(list(docs.sents)) == 3\n",
    "\n",
    "list(docs.sents)"
   ]
  },
  {
   "cell_type": "code",
   "execution_count": 9,
   "id": "214b7d01-e497-40ef-bf45-cb8b45c870b8",
   "metadata": {},
   "outputs": [
    {
     "data": {
      "application/vnd.jupyter.widget-view+json": {
       "model_id": "401abc9a8fdb48c3b9b785f403494866",
       "version_major": 2,
       "version_minor": 0
      },
      "text/plain": [
       "  0%|          | 0/45 [00:00<?, ?it/s]"
      ]
     },
     "metadata": {},
     "output_type": "display_data"
    }
   ],
   "source": [
    "for item in tqdm(pages_and_text):\n",
    "    item[\"sentences\"] = list(nlp(item[\"text\"]).sents)\n",
    "\n",
    "    item[\"sentences\"] = [str(sentence) for sentence in item[\"sentences\"]]\n",
    "    item[\"page_sentence_count_spacy\"] = len(item[\"sentences\"])"
   ]
  },
  {
   "cell_type": "code",
   "execution_count": 10,
   "id": "ee90c74a-19f1-4134-8707-5f8d64354897",
   "metadata": {},
   "outputs": [
    {
     "data": {
      "text/html": [
       "<div>\n",
       "<style scoped>\n",
       "    .dataframe tbody tr th:only-of-type {\n",
       "        vertical-align: middle;\n",
       "    }\n",
       "\n",
       "    .dataframe tbody tr th {\n",
       "        vertical-align: top;\n",
       "    }\n",
       "\n",
       "    .dataframe thead th {\n",
       "        text-align: right;\n",
       "    }\n",
       "</style>\n",
       "<table border=\"1\" class=\"dataframe\">\n",
       "  <thead>\n",
       "    <tr style=\"text-align: right;\">\n",
       "      <th></th>\n",
       "      <th>page_number</th>\n",
       "      <th>char_count</th>\n",
       "      <th>page_word_count</th>\n",
       "      <th>page_sentence_count_row</th>\n",
       "      <th>page_token_count</th>\n",
       "      <th>page_sentence_count_spacy</th>\n",
       "    </tr>\n",
       "  </thead>\n",
       "  <tbody>\n",
       "    <tr>\n",
       "      <th>count</th>\n",
       "      <td>45.00</td>\n",
       "      <td>45.00</td>\n",
       "      <td>45.00</td>\n",
       "      <td>45.00</td>\n",
       "      <td>45.00</td>\n",
       "      <td>45.00</td>\n",
       "    </tr>\n",
       "    <tr>\n",
       "      <th>mean</th>\n",
       "      <td>-19.00</td>\n",
       "      <td>2118.60</td>\n",
       "      <td>381.51</td>\n",
       "      <td>13.07</td>\n",
       "      <td>529.65</td>\n",
       "      <td>12.93</td>\n",
       "    </tr>\n",
       "    <tr>\n",
       "      <th>std</th>\n",
       "      <td>13.13</td>\n",
       "      <td>1258.17</td>\n",
       "      <td>223.10</td>\n",
       "      <td>7.37</td>\n",
       "      <td>314.54</td>\n",
       "      <td>7.36</td>\n",
       "    </tr>\n",
       "    <tr>\n",
       "      <th>min</th>\n",
       "      <td>-41.00</td>\n",
       "      <td>0.00</td>\n",
       "      <td>1.00</td>\n",
       "      <td>1.00</td>\n",
       "      <td>0.00</td>\n",
       "      <td>0.00</td>\n",
       "    </tr>\n",
       "    <tr>\n",
       "      <th>25%</th>\n",
       "      <td>-30.00</td>\n",
       "      <td>990.00</td>\n",
       "      <td>169.00</td>\n",
       "      <td>8.00</td>\n",
       "      <td>247.50</td>\n",
       "      <td>8.00</td>\n",
       "    </tr>\n",
       "    <tr>\n",
       "      <th>50%</th>\n",
       "      <td>-19.00</td>\n",
       "      <td>2604.00</td>\n",
       "      <td>456.00</td>\n",
       "      <td>14.00</td>\n",
       "      <td>651.00</td>\n",
       "      <td>14.00</td>\n",
       "    </tr>\n",
       "    <tr>\n",
       "      <th>75%</th>\n",
       "      <td>-8.00</td>\n",
       "      <td>3071.00</td>\n",
       "      <td>541.00</td>\n",
       "      <td>19.00</td>\n",
       "      <td>767.75</td>\n",
       "      <td>19.00</td>\n",
       "    </tr>\n",
       "    <tr>\n",
       "      <th>max</th>\n",
       "      <td>3.00</td>\n",
       "      <td>4009.00</td>\n",
       "      <td>716.00</td>\n",
       "      <td>27.00</td>\n",
       "      <td>1002.25</td>\n",
       "      <td>25.00</td>\n",
       "    </tr>\n",
       "  </tbody>\n",
       "</table>\n",
       "</div>"
      ],
      "text/plain": [
       "       page_number  char_count  page_word_count  page_sentence_count_row  \\\n",
       "count        45.00       45.00            45.00                    45.00   \n",
       "mean        -19.00     2118.60           381.51                    13.07   \n",
       "std          13.13     1258.17           223.10                     7.37   \n",
       "min         -41.00        0.00             1.00                     1.00   \n",
       "25%         -30.00      990.00           169.00                     8.00   \n",
       "50%         -19.00     2604.00           456.00                    14.00   \n",
       "75%          -8.00     3071.00           541.00                    19.00   \n",
       "max           3.00     4009.00           716.00                    27.00   \n",
       "\n",
       "       page_token_count  page_sentence_count_spacy  \n",
       "count             45.00                      45.00  \n",
       "mean             529.65                      12.93  \n",
       "std              314.54                       7.36  \n",
       "min                0.00                       0.00  \n",
       "25%              247.50                       8.00  \n",
       "50%              651.00                      14.00  \n",
       "75%              767.75                      19.00  \n",
       "max             1002.25                      25.00  "
      ]
     },
     "execution_count": 10,
     "metadata": {},
     "output_type": "execute_result"
    }
   ],
   "source": [
    "df = pd.DataFrame(pages_and_text)\n",
    "df.describe().round(2)"
   ]
  },
  {
   "cell_type": "code",
   "execution_count": 11,
   "id": "ccf202db-8718-4026-bccf-993045795480",
   "metadata": {},
   "outputs": [
    {
     "data": {
      "text/plain": [
       "[[0, 1, 2, 3, 4, 5, 6, 7, 8, 9],\n",
       " [10, 11, 12, 13, 14, 15, 16, 17, 18, 19],\n",
       " [20, 21, 22, 23, 24]]"
      ]
     },
     "execution_count": 11,
     "metadata": {},
     "output_type": "execute_result"
    }
   ],
   "source": [
    "num_sentences_chunks = 10\n",
    "\n",
    "def Split_list(input_list: list, num_slices: int = 10) -> list[list[str]]:\n",
    "    return [input_list[i:i+num_slices] for i in range(0,len(input_list), num_slices)]\n",
    "\n",
    "test_split = list(range(25))\n",
    "Split_list(test_split)"
   ]
  },
  {
   "cell_type": "code",
   "execution_count": 12,
   "id": "d33c2aca-7b34-4b99-8325-e0718ebe4eaa",
   "metadata": {},
   "outputs": [
    {
     "data": {
      "text/plain": [
       "[{'page_number': -41,\n",
       "  'char_count': 28,\n",
       "  'page_word_count': 5,\n",
       "  'page_sentence_count_row': 1,\n",
       "  'page_token_count': 7.0,\n",
       "  'text': 'Employment Law in Egypt 2021',\n",
       "  'sentences': ['Employment Law in Egypt 2021'],\n",
       "  'page_sentence_count_spacy': 1},\n",
       " {'page_number': -40,\n",
       "  'char_count': 0,\n",
       "  'page_word_count': 1,\n",
       "  'page_sentence_count_row': 1,\n",
       "  'page_token_count': 0.0,\n",
       "  'text': '',\n",
       "  'sentences': [],\n",
       "  'page_sentence_count_spacy': 0}]"
      ]
     },
     "execution_count": 12,
     "metadata": {},
     "output_type": "execute_result"
    }
   ],
   "source": [
    "pages_and_text[:2]"
   ]
  },
  {
   "cell_type": "code",
   "execution_count": 13,
   "id": "827476a3-2dab-441e-9ee7-c0d6eb3de228",
   "metadata": {},
   "outputs": [
    {
     "data": {
      "application/vnd.jupyter.widget-view+json": {
       "model_id": "c9b3df649b134f9490f5e95e278bf485",
       "version_major": 2,
       "version_minor": 0
      },
      "text/plain": [
       "  0%|          | 0/45 [00:00<?, ?it/s]"
      ]
     },
     "metadata": {},
     "output_type": "display_data"
    }
   ],
   "source": [
    "# Loop through pages and texts and split sentences into chunks\n",
    "for item in tqdm(pages_and_text):\n",
    "    item[\"sentence_chunks\"] = Split_list(input_list=item[\"sentences\"],\n",
    "                                         num_slices=num_sentences_chunks)\n",
    "    item[\"num_chunks\"] = len(item[\"sentence_chunks\"])"
   ]
  },
  {
   "cell_type": "code",
   "execution_count": 14,
   "id": "b9a05373-85df-43c5-a897-f088781e9c1b",
   "metadata": {},
   "outputs": [
    {
     "data": {
      "text/plain": [
       "[{'page_number': -10,\n",
       "  'char_count': 990,\n",
       "  'page_word_count': 173,\n",
       "  'page_sentence_count_row': 8,\n",
       "  'page_token_count': 247.5,\n",
       "  'text': '31 - Publicize a copy of the labour regulations in the  workplace. - Register working hours and periods of rest  regularly. - Send to the ofﬁcial authority the names of  minors employed and the names of the persons  who supervise them. Penalties Employers who do not abide by these regulations  are liable to ﬁnes ranging between LE 100-500 for  each infringement. The Child Law also stipulates that an employer  who hinders or deprives a minor from attending  basic education, would be liable to imprisonment  for a period not exceeding a month or a ﬁne  ranging between LE 200-500. The by-laws provide  the conditions which constitute ‘preventing or  hindering the minor’s education’, namely: - If the employer organizes working hours in  conﬂict with school hours. - If work arrangements prevent the minor from  continuing his/her education. - If the minor is employed in unhealthy working  conditions or in undertaking work which affects  his/her mental ability or physical development.',\n",
       "  'sentences': ['31 - Publicize a copy of the labour regulations in the  workplace. -',\n",
       "   'Register working hours and periods of rest  regularly. -',\n",
       "   'Send to the ofﬁcial authority the names of  minors employed and the names of the persons  who supervise them.',\n",
       "   'Penalties Employers who do not abide by these regulations  are liable to ﬁnes ranging between LE 100-500 for  each infringement.',\n",
       "   'The Child Law also stipulates that an employer  who hinders or deprives a minor from attending  basic education, would be liable to imprisonment  for a period not exceeding a month or a ﬁne  ranging between LE 200-500.',\n",
       "   'The by-laws provide  the conditions which constitute ‘preventing or  hindering the minor’s education’, namely: - If the employer organizes working hours in  conﬂict with school hours. -',\n",
       "   'If work arrangements prevent the minor from  continuing his/her education. -',\n",
       "   'If the minor is employed in unhealthy working  conditions or in undertaking work which affects  his/her mental ability or physical development.'],\n",
       "  'page_sentence_count_spacy': 8,\n",
       "  'sentence_chunks': [['31 - Publicize a copy of the labour regulations in the  workplace. -',\n",
       "    'Register working hours and periods of rest  regularly. -',\n",
       "    'Send to the ofﬁcial authority the names of  minors employed and the names of the persons  who supervise them.',\n",
       "    'Penalties Employers who do not abide by these regulations  are liable to ﬁnes ranging between LE 100-500 for  each infringement.',\n",
       "    'The Child Law also stipulates that an employer  who hinders or deprives a minor from attending  basic education, would be liable to imprisonment  for a period not exceeding a month or a ﬁne  ranging between LE 200-500.',\n",
       "    'The by-laws provide  the conditions which constitute ‘preventing or  hindering the minor’s education’, namely: - If the employer organizes working hours in  conﬂict with school hours. -',\n",
       "    'If work arrangements prevent the minor from  continuing his/her education. -',\n",
       "    'If the minor is employed in unhealthy working  conditions or in undertaking work which affects  his/her mental ability or physical development.']],\n",
       "  'num_chunks': 1}]"
      ]
     },
     "execution_count": 14,
     "metadata": {},
     "output_type": "execute_result"
    }
   ],
   "source": [
    "random.sample(pages_and_text, k=1)"
   ]
  },
  {
   "cell_type": "code",
   "execution_count": 15,
   "id": "260d1221-3e3a-4e17-9ab5-2fb9baf1d305",
   "metadata": {},
   "outputs": [
    {
     "data": {
      "text/html": [
       "<div>\n",
       "<style scoped>\n",
       "    .dataframe tbody tr th:only-of-type {\n",
       "        vertical-align: middle;\n",
       "    }\n",
       "\n",
       "    .dataframe tbody tr th {\n",
       "        vertical-align: top;\n",
       "    }\n",
       "\n",
       "    .dataframe thead th {\n",
       "        text-align: right;\n",
       "    }\n",
       "</style>\n",
       "<table border=\"1\" class=\"dataframe\">\n",
       "  <thead>\n",
       "    <tr style=\"text-align: right;\">\n",
       "      <th></th>\n",
       "      <th>page_number</th>\n",
       "      <th>char_count</th>\n",
       "      <th>page_word_count</th>\n",
       "      <th>page_sentence_count_row</th>\n",
       "      <th>page_token_count</th>\n",
       "      <th>page_sentence_count_spacy</th>\n",
       "      <th>num_chunks</th>\n",
       "    </tr>\n",
       "  </thead>\n",
       "  <tbody>\n",
       "    <tr>\n",
       "      <th>count</th>\n",
       "      <td>45.00</td>\n",
       "      <td>45.00</td>\n",
       "      <td>45.00</td>\n",
       "      <td>45.00</td>\n",
       "      <td>45.00</td>\n",
       "      <td>45.00</td>\n",
       "      <td>45.00</td>\n",
       "    </tr>\n",
       "    <tr>\n",
       "      <th>mean</th>\n",
       "      <td>-19.00</td>\n",
       "      <td>2118.60</td>\n",
       "      <td>381.51</td>\n",
       "      <td>13.07</td>\n",
       "      <td>529.65</td>\n",
       "      <td>12.93</td>\n",
       "      <td>1.71</td>\n",
       "    </tr>\n",
       "    <tr>\n",
       "      <th>std</th>\n",
       "      <td>13.13</td>\n",
       "      <td>1258.17</td>\n",
       "      <td>223.10</td>\n",
       "      <td>7.37</td>\n",
       "      <td>314.54</td>\n",
       "      <td>7.36</td>\n",
       "      <td>0.73</td>\n",
       "    </tr>\n",
       "    <tr>\n",
       "      <th>min</th>\n",
       "      <td>-41.00</td>\n",
       "      <td>0.00</td>\n",
       "      <td>1.00</td>\n",
       "      <td>1.00</td>\n",
       "      <td>0.00</td>\n",
       "      <td>0.00</td>\n",
       "      <td>0.00</td>\n",
       "    </tr>\n",
       "    <tr>\n",
       "      <th>25%</th>\n",
       "      <td>-30.00</td>\n",
       "      <td>990.00</td>\n",
       "      <td>169.00</td>\n",
       "      <td>8.00</td>\n",
       "      <td>247.50</td>\n",
       "      <td>8.00</td>\n",
       "      <td>1.00</td>\n",
       "    </tr>\n",
       "    <tr>\n",
       "      <th>50%</th>\n",
       "      <td>-19.00</td>\n",
       "      <td>2604.00</td>\n",
       "      <td>456.00</td>\n",
       "      <td>14.00</td>\n",
       "      <td>651.00</td>\n",
       "      <td>14.00</td>\n",
       "      <td>2.00</td>\n",
       "    </tr>\n",
       "    <tr>\n",
       "      <th>75%</th>\n",
       "      <td>-8.00</td>\n",
       "      <td>3071.00</td>\n",
       "      <td>541.00</td>\n",
       "      <td>19.00</td>\n",
       "      <td>767.75</td>\n",
       "      <td>19.00</td>\n",
       "      <td>2.00</td>\n",
       "    </tr>\n",
       "    <tr>\n",
       "      <th>max</th>\n",
       "      <td>3.00</td>\n",
       "      <td>4009.00</td>\n",
       "      <td>716.00</td>\n",
       "      <td>27.00</td>\n",
       "      <td>1002.25</td>\n",
       "      <td>25.00</td>\n",
       "      <td>3.00</td>\n",
       "    </tr>\n",
       "  </tbody>\n",
       "</table>\n",
       "</div>"
      ],
      "text/plain": [
       "       page_number  char_count  page_word_count  page_sentence_count_row  \\\n",
       "count        45.00       45.00            45.00                    45.00   \n",
       "mean        -19.00     2118.60           381.51                    13.07   \n",
       "std          13.13     1258.17           223.10                     7.37   \n",
       "min         -41.00        0.00             1.00                     1.00   \n",
       "25%         -30.00      990.00           169.00                     8.00   \n",
       "50%         -19.00     2604.00           456.00                    14.00   \n",
       "75%          -8.00     3071.00           541.00                    19.00   \n",
       "max           3.00     4009.00           716.00                    27.00   \n",
       "\n",
       "       page_token_count  page_sentence_count_spacy  num_chunks  \n",
       "count             45.00                      45.00       45.00  \n",
       "mean             529.65                      12.93        1.71  \n",
       "std              314.54                       7.36        0.73  \n",
       "min                0.00                       0.00        0.00  \n",
       "25%              247.50                       8.00        1.00  \n",
       "50%              651.00                      14.00        2.00  \n",
       "75%              767.75                      19.00        2.00  \n",
       "max             1002.25                      25.00        3.00  "
      ]
     },
     "execution_count": 15,
     "metadata": {},
     "output_type": "execute_result"
    }
   ],
   "source": [
    "df = pd.DataFrame(pages_and_text)\n",
    "df.describe().round(2)"
   ]
  },
  {
   "cell_type": "code",
   "execution_count": 16,
   "id": "88e46f1e-5e43-407e-9a94-093299cc36be",
   "metadata": {},
   "outputs": [
    {
     "data": {
      "text/html": [
       "<div>\n",
       "<style scoped>\n",
       "    .dataframe tbody tr th:only-of-type {\n",
       "        vertical-align: middle;\n",
       "    }\n",
       "\n",
       "    .dataframe tbody tr th {\n",
       "        vertical-align: top;\n",
       "    }\n",
       "\n",
       "    .dataframe thead th {\n",
       "        text-align: right;\n",
       "    }\n",
       "</style>\n",
       "<table border=\"1\" class=\"dataframe\">\n",
       "  <thead>\n",
       "    <tr style=\"text-align: right;\">\n",
       "      <th></th>\n",
       "      <th>page_number</th>\n",
       "      <th>char_count</th>\n",
       "      <th>page_word_count</th>\n",
       "      <th>page_sentence_count_row</th>\n",
       "      <th>page_token_count</th>\n",
       "      <th>text</th>\n",
       "      <th>sentences</th>\n",
       "      <th>page_sentence_count_spacy</th>\n",
       "      <th>sentence_chunks</th>\n",
       "      <th>num_chunks</th>\n",
       "    </tr>\n",
       "  </thead>\n",
       "  <tbody>\n",
       "    <tr>\n",
       "      <th>0</th>\n",
       "      <td>-41</td>\n",
       "      <td>28</td>\n",
       "      <td>5</td>\n",
       "      <td>1</td>\n",
       "      <td>7.00</td>\n",
       "      <td>Employment Law in Egypt 2021</td>\n",
       "      <td>[Employment Law in Egypt 2021]</td>\n",
       "      <td>1</td>\n",
       "      <td>[[Employment Law in Egypt 2021]]</td>\n",
       "      <td>1</td>\n",
       "    </tr>\n",
       "    <tr>\n",
       "      <th>1</th>\n",
       "      <td>-40</td>\n",
       "      <td>0</td>\n",
       "      <td>1</td>\n",
       "      <td>1</td>\n",
       "      <td>0.00</td>\n",
       "      <td></td>\n",
       "      <td>[]</td>\n",
       "      <td>0</td>\n",
       "      <td>[]</td>\n",
       "      <td>0</td>\n",
       "    </tr>\n",
       "    <tr>\n",
       "      <th>2</th>\n",
       "      <td>-39</td>\n",
       "      <td>313</td>\n",
       "      <td>103</td>\n",
       "      <td>11</td>\n",
       "      <td>78.25</td>\n",
       "      <td>Table of Contents. 0 1 . Introduction p a g e ...</td>\n",
       "      <td>[Table of Contents., 0 1 ., Introduction p a g...</td>\n",
       "      <td>11</td>\n",
       "      <td>[[Table of Contents., 0 1 ., Introduction p a ...</td>\n",
       "      <td>2</td>\n",
       "    </tr>\n",
       "    <tr>\n",
       "      <th>3</th>\n",
       "      <td>-38</td>\n",
       "      <td>374</td>\n",
       "      <td>114</td>\n",
       "      <td>10</td>\n",
       "      <td>93.50</td>\n",
       "      <td>1 0 . Vocational Training p a g e  2 6 1 2 . C...</td>\n",
       "      <td>[1 0 ., Vocational Training p a g e  2 6 1 2 ....</td>\n",
       "      <td>10</td>\n",
       "      <td>[[1 0 ., Vocational Training p a g e  2 6 1 2 ...</td>\n",
       "      <td>1</td>\n",
       "    </tr>\n",
       "    <tr>\n",
       "      <th>4</th>\n",
       "      <td>-37</td>\n",
       "      <td>3207</td>\n",
       "      <td>572</td>\n",
       "      <td>16</td>\n",
       "      <td>801.75</td>\n",
       "      <td>4 With a population of over 100 million and a ...</td>\n",
       "      <td>[4 With a population of over 100 million and a...</td>\n",
       "      <td>16</td>\n",
       "      <td>[[4 With a population of over 100 million and ...</td>\n",
       "      <td>2</td>\n",
       "    </tr>\n",
       "  </tbody>\n",
       "</table>\n",
       "</div>"
      ],
      "text/plain": [
       "   page_number  char_count  page_word_count  page_sentence_count_row  \\\n",
       "0          -41          28                5                        1   \n",
       "1          -40           0                1                        1   \n",
       "2          -39         313              103                       11   \n",
       "3          -38         374              114                       10   \n",
       "4          -37        3207              572                       16   \n",
       "\n",
       "   page_token_count                                               text  \\\n",
       "0              7.00                       Employment Law in Egypt 2021   \n",
       "1              0.00                                                      \n",
       "2             78.25  Table of Contents. 0 1 . Introduction p a g e ...   \n",
       "3             93.50  1 0 . Vocational Training p a g e  2 6 1 2 . C...   \n",
       "4            801.75  4 With a population of over 100 million and a ...   \n",
       "\n",
       "                                           sentences  \\\n",
       "0                     [Employment Law in Egypt 2021]   \n",
       "1                                                 []   \n",
       "2  [Table of Contents., 0 1 ., Introduction p a g...   \n",
       "3  [1 0 ., Vocational Training p a g e  2 6 1 2 ....   \n",
       "4  [4 With a population of over 100 million and a...   \n",
       "\n",
       "   page_sentence_count_spacy  \\\n",
       "0                          1   \n",
       "1                          0   \n",
       "2                         11   \n",
       "3                         10   \n",
       "4                         16   \n",
       "\n",
       "                                     sentence_chunks  num_chunks  \n",
       "0                   [[Employment Law in Egypt 2021]]           1  \n",
       "1                                                 []           0  \n",
       "2  [[Table of Contents., 0 1 ., Introduction p a ...           2  \n",
       "3  [[1 0 ., Vocational Training p a g e  2 6 1 2 ...           1  \n",
       "4  [[4 With a population of over 100 million and ...           2  "
      ]
     },
     "execution_count": 16,
     "metadata": {},
     "output_type": "execute_result"
    }
   ],
   "source": [
    "df.head()"
   ]
  },
  {
   "cell_type": "code",
   "execution_count": 17,
   "id": "fd5b614f-85e3-4dd2-8fec-ab51dbedbe61",
   "metadata": {},
   "outputs": [
    {
     "data": {
      "application/vnd.jupyter.widget-view+json": {
       "model_id": "7a4e8d6032a24f7e95eceaa12b94f3d4",
       "version_major": 2,
       "version_minor": 0
      },
      "text/plain": [
       "  0%|          | 0/45 [00:00<?, ?it/s]"
      ]
     },
     "metadata": {},
     "output_type": "display_data"
    },
    {
     "data": {
      "text/plain": [
       "77"
      ]
     },
     "execution_count": 17,
     "metadata": {},
     "output_type": "execute_result"
    }
   ],
   "source": [
    "import re\n",
    "\n",
    "pages_and_chunks = []\n",
    "\n",
    "for item in tqdm(pages_and_text):\n",
    "    for sentence_chunk in item[\"sentence_chunks\"]:\n",
    "        chunk_dict = {}\n",
    "        chunk_dict[\"page_number\"] = item[\"page_number\"]\n",
    "        \n",
    "        # Join the sentences together into a paragraph-like structure, aka join the list of sentences into one paragraph\n",
    "        joined_sentence_chunk = \"\".join(sentence_chunk).replace(\"  \", \" \").strip()\n",
    "        joined_sentence_chunk = re.sub(r'\\.([A-Z])', r'. \\1', joined_sentence_chunk) # \".A\" => \". A\" (will work for any captial letter)\n",
    "\n",
    "        chunk_dict[\"sentence_chunk\"] = joined_sentence_chunk\n",
    "\n",
    "        # Get some stats on our chunks\n",
    "        chunk_dict[\"chunk_char_count\"] = len(joined_sentence_chunk)\n",
    "        chunk_dict[\"chunk_word_count\"] = len([word for word in joined_sentence_chunk.split(\" \")])\n",
    "        chunk_dict[\"chunk_token_count\"] = len(joined_sentence_chunk) / 4 # 1 token = ~4 chars\n",
    "\n",
    "        pages_and_chunks.append(chunk_dict) \n",
    "\n",
    "len(pages_and_chunks)"
   ]
  },
  {
   "cell_type": "code",
   "execution_count": 18,
   "id": "6631fa0a-1e65-44ed-b1b2-6d9b99e51508",
   "metadata": {},
   "outputs": [
    {
     "data": {
      "text/plain": [
       "[{'page_number': -39,\n",
       "  'sentence_chunk': 'Table of Contents.0 1 . Introduction p a g e 4 0 3 . Wages p a g e 1 0 0 4 . Vacations p a g e 1 1 0 5 . Penalties p a g e 1 4 0 6 . Termination p a g e 1 6 0 2 . Contracts p a g e 7 p a g e 1 9 0 7 . Downsizing p a g e 2 1 0 8 . Employee Representation p a g e 2 3 0 9 .',\n",
       "  'chunk_char_count': 271,\n",
       "  'chunk_word_count': 90,\n",
       "  'chunk_token_count': 67.75}]"
      ]
     },
     "execution_count": 18,
     "metadata": {},
     "output_type": "execute_result"
    }
   ],
   "source": [
    "random.sample(pages_and_chunks, k=1)"
   ]
  },
  {
   "cell_type": "code",
   "execution_count": 19,
   "id": "20d23702-4e07-451c-8950-4f56fb28a153",
   "metadata": {},
   "outputs": [
    {
     "data": {
      "text/html": [
       "<div>\n",
       "<style scoped>\n",
       "    .dataframe tbody tr th:only-of-type {\n",
       "        vertical-align: middle;\n",
       "    }\n",
       "\n",
       "    .dataframe tbody tr th {\n",
       "        vertical-align: top;\n",
       "    }\n",
       "\n",
       "    .dataframe thead th {\n",
       "        text-align: right;\n",
       "    }\n",
       "</style>\n",
       "<table border=\"1\" class=\"dataframe\">\n",
       "  <thead>\n",
       "    <tr style=\"text-align: right;\">\n",
       "      <th></th>\n",
       "      <th>page_number</th>\n",
       "      <th>chunk_char_count</th>\n",
       "      <th>chunk_word_count</th>\n",
       "      <th>chunk_token_count</th>\n",
       "    </tr>\n",
       "  </thead>\n",
       "  <tbody>\n",
       "    <tr>\n",
       "      <th>count</th>\n",
       "      <td>77.00</td>\n",
       "      <td>77.00</td>\n",
       "      <td>77.00</td>\n",
       "      <td>77.00</td>\n",
       "    </tr>\n",
       "    <tr>\n",
       "      <th>mean</th>\n",
       "      <td>-18.75</td>\n",
       "      <td>1213.62</td>\n",
       "      <td>198.86</td>\n",
       "      <td>303.41</td>\n",
       "    </tr>\n",
       "    <tr>\n",
       "      <th>std</th>\n",
       "      <td>12.16</td>\n",
       "      <td>649.09</td>\n",
       "      <td>104.45</td>\n",
       "      <td>162.27</td>\n",
       "    </tr>\n",
       "    <tr>\n",
       "      <th>min</th>\n",
       "      <td>-41.00</td>\n",
       "      <td>28.00</td>\n",
       "      <td>3.00</td>\n",
       "      <td>7.00</td>\n",
       "    </tr>\n",
       "    <tr>\n",
       "      <th>25%</th>\n",
       "      <td>-29.00</td>\n",
       "      <td>639.00</td>\n",
       "      <td>110.00</td>\n",
       "      <td>159.75</td>\n",
       "    </tr>\n",
       "    <tr>\n",
       "      <th>50%</th>\n",
       "      <td>-18.00</td>\n",
       "      <td>1424.00</td>\n",
       "      <td>230.00</td>\n",
       "      <td>356.00</td>\n",
       "    </tr>\n",
       "    <tr>\n",
       "      <th>75%</th>\n",
       "      <td>-9.00</td>\n",
       "      <td>1721.00</td>\n",
       "      <td>285.00</td>\n",
       "      <td>430.25</td>\n",
       "    </tr>\n",
       "    <tr>\n",
       "      <th>max</th>\n",
       "      <td>3.00</td>\n",
       "      <td>2396.00</td>\n",
       "      <td>366.00</td>\n",
       "      <td>599.00</td>\n",
       "    </tr>\n",
       "  </tbody>\n",
       "</table>\n",
       "</div>"
      ],
      "text/plain": [
       "       page_number  chunk_char_count  chunk_word_count  chunk_token_count\n",
       "count        77.00             77.00             77.00              77.00\n",
       "mean        -18.75           1213.62            198.86             303.41\n",
       "std          12.16            649.09            104.45             162.27\n",
       "min         -41.00             28.00              3.00               7.00\n",
       "25%         -29.00            639.00            110.00             159.75\n",
       "50%         -18.00           1424.00            230.00             356.00\n",
       "75%          -9.00           1721.00            285.00             430.25\n",
       "max           3.00           2396.00            366.00             599.00"
      ]
     },
     "execution_count": 19,
     "metadata": {},
     "output_type": "execute_result"
    }
   ],
   "source": [
    "df = pd.DataFrame(pages_and_chunks)\n",
    "df.describe().round(2)"
   ]
  },
  {
   "cell_type": "code",
   "execution_count": 24,
   "id": "7110a10e-24a6-4020-a03e-0e367d9a2196",
   "metadata": {},
   "outputs": [
    {
     "name": "stdout",
     "output_type": "stream",
     "text": [
      "32\n"
     ]
    }
   ],
   "source": [
    "count = 0\n",
    "for i in range (len(pages_and_chunks)):\n",
    "    if(pages_and_chunks[i][\"chunk_token_count\"] > 384):\n",
    "        count += 1\n",
    "print(count)"
   ]
  },
  {
   "cell_type": "code",
   "execution_count": 21,
   "id": "a65b9057-150b-4bf5-a589-d58d3c3cbcd0",
   "metadata": {},
   "outputs": [
    {
     "data": {
      "text/plain": [
       "7.0"
      ]
     },
     "execution_count": 21,
     "metadata": {},
     "output_type": "execute_result"
    }
   ],
   "source": [
    "pages_and_chunks[0][\"chunk_token_count\"]"
   ]
  },
  {
   "cell_type": "code",
   "execution_count": 25,
   "id": "5d2c8ef4-e607-438c-9b13-af6f4118097b",
   "metadata": {},
   "outputs": [
    {
     "ename": "ValueError",
     "evalue": "Cannot take a larger sample than population when 'replace=False'",
     "output_type": "error",
     "traceback": [
      "\u001b[1;31m---------------------------------------------------------------------------\u001b[0m",
      "\u001b[1;31mValueError\u001b[0m                                Traceback (most recent call last)",
      "Cell \u001b[1;32mIn[25], line 3\u001b[0m\n\u001b[0;32m      1\u001b[0m \u001b[38;5;66;03m# Show random chunks with under 30 tokens in length\u001b[39;00m\n\u001b[0;32m      2\u001b[0m min_token_length \u001b[38;5;241m=\u001b[39m \u001b[38;5;241m30\u001b[39m\n\u001b[1;32m----> 3\u001b[0m \u001b[38;5;28;01mfor\u001b[39;00m row \u001b[38;5;129;01min\u001b[39;00m \u001b[43mdf\u001b[49m\u001b[43m[\u001b[49m\u001b[43mdf\u001b[49m\u001b[43m[\u001b[49m\u001b[38;5;124;43m\"\u001b[39;49m\u001b[38;5;124;43mchunk_token_count\u001b[39;49m\u001b[38;5;124;43m\"\u001b[39;49m\u001b[43m]\u001b[49m\u001b[43m \u001b[49m\u001b[38;5;241;43m<\u001b[39;49m\u001b[38;5;241;43m=\u001b[39;49m\u001b[43m \u001b[49m\u001b[43mmin_token_length\u001b[49m\u001b[43m]\u001b[49m\u001b[38;5;241;43m.\u001b[39;49m\u001b[43msample\u001b[49m\u001b[43m(\u001b[49m\u001b[38;5;241;43m5\u001b[39;49m\u001b[43m)\u001b[49m\u001b[38;5;241m.\u001b[39miterrows():\n\u001b[0;32m      4\u001b[0m     \u001b[38;5;28mprint\u001b[39m(\u001b[38;5;124mf\u001b[39m\u001b[38;5;124m'\u001b[39m\u001b[38;5;124mChunk token count: \u001b[39m\u001b[38;5;132;01m{\u001b[39;00mrow[\u001b[38;5;241m1\u001b[39m][\u001b[38;5;124m\"\u001b[39m\u001b[38;5;124mchunk_token_count\u001b[39m\u001b[38;5;124m\"\u001b[39m]\u001b[38;5;132;01m}\u001b[39;00m\u001b[38;5;124m | Text: \u001b[39m\u001b[38;5;132;01m{\u001b[39;00mrow[\u001b[38;5;241m1\u001b[39m][\u001b[38;5;124m\"\u001b[39m\u001b[38;5;124msentence_chunk\u001b[39m\u001b[38;5;124m\"\u001b[39m]\u001b[38;5;132;01m}\u001b[39;00m\u001b[38;5;124m'\u001b[39m)\n",
      "File \u001b[1;32mc:\\Users\\pc\\AppData\\Local\\Programs\\Python\\Python310\\lib\\site-packages\\pandas\\core\\generic.py:6118\u001b[0m, in \u001b[0;36mNDFrame.sample\u001b[1;34m(self, n, frac, replace, weights, random_state, axis, ignore_index)\u001b[0m\n\u001b[0;32m   6115\u001b[0m \u001b[38;5;28;01mif\u001b[39;00m weights \u001b[38;5;129;01mis\u001b[39;00m \u001b[38;5;129;01mnot\u001b[39;00m \u001b[38;5;28;01mNone\u001b[39;00m:\n\u001b[0;32m   6116\u001b[0m     weights \u001b[38;5;241m=\u001b[39m sample\u001b[38;5;241m.\u001b[39mpreprocess_weights(\u001b[38;5;28mself\u001b[39m, weights, axis)\n\u001b[1;32m-> 6118\u001b[0m sampled_indices \u001b[38;5;241m=\u001b[39m \u001b[43msample\u001b[49m\u001b[38;5;241;43m.\u001b[39;49m\u001b[43msample\u001b[49m\u001b[43m(\u001b[49m\u001b[43mobj_len\u001b[49m\u001b[43m,\u001b[49m\u001b[43m \u001b[49m\u001b[43msize\u001b[49m\u001b[43m,\u001b[49m\u001b[43m \u001b[49m\u001b[43mreplace\u001b[49m\u001b[43m,\u001b[49m\u001b[43m \u001b[49m\u001b[43mweights\u001b[49m\u001b[43m,\u001b[49m\u001b[43m \u001b[49m\u001b[43mrs\u001b[49m\u001b[43m)\u001b[49m\n\u001b[0;32m   6119\u001b[0m result \u001b[38;5;241m=\u001b[39m \u001b[38;5;28mself\u001b[39m\u001b[38;5;241m.\u001b[39mtake(sampled_indices, axis\u001b[38;5;241m=\u001b[39maxis)\n\u001b[0;32m   6121\u001b[0m \u001b[38;5;28;01mif\u001b[39;00m ignore_index:\n",
      "File \u001b[1;32mc:\\Users\\pc\\AppData\\Local\\Programs\\Python\\Python310\\lib\\site-packages\\pandas\\core\\sample.py:152\u001b[0m, in \u001b[0;36msample\u001b[1;34m(obj_len, size, replace, weights, random_state)\u001b[0m\n\u001b[0;32m    149\u001b[0m     \u001b[38;5;28;01melse\u001b[39;00m:\n\u001b[0;32m    150\u001b[0m         \u001b[38;5;28;01mraise\u001b[39;00m \u001b[38;5;167;01mValueError\u001b[39;00m(\u001b[38;5;124m\"\u001b[39m\u001b[38;5;124mInvalid weights: weights sum to zero\u001b[39m\u001b[38;5;124m\"\u001b[39m)\n\u001b[1;32m--> 152\u001b[0m \u001b[38;5;28;01mreturn\u001b[39;00m \u001b[43mrandom_state\u001b[49m\u001b[38;5;241;43m.\u001b[39;49m\u001b[43mchoice\u001b[49m\u001b[43m(\u001b[49m\u001b[43mobj_len\u001b[49m\u001b[43m,\u001b[49m\u001b[43m \u001b[49m\u001b[43msize\u001b[49m\u001b[38;5;241;43m=\u001b[39;49m\u001b[43msize\u001b[49m\u001b[43m,\u001b[49m\u001b[43m \u001b[49m\u001b[43mreplace\u001b[49m\u001b[38;5;241;43m=\u001b[39;49m\u001b[43mreplace\u001b[49m\u001b[43m,\u001b[49m\u001b[43m \u001b[49m\u001b[43mp\u001b[49m\u001b[38;5;241;43m=\u001b[39;49m\u001b[43mweights\u001b[49m\u001b[43m)\u001b[49m\u001b[38;5;241m.\u001b[39mastype(\n\u001b[0;32m    153\u001b[0m     np\u001b[38;5;241m.\u001b[39mintp, copy\u001b[38;5;241m=\u001b[39m\u001b[38;5;28;01mFalse\u001b[39;00m\n\u001b[0;32m    154\u001b[0m )\n",
      "File \u001b[1;32mnumpy\\\\random\\\\mtrand.pyx:1001\u001b[0m, in \u001b[0;36mnumpy.random.mtrand.RandomState.choice\u001b[1;34m()\u001b[0m\n",
      "\u001b[1;31mValueError\u001b[0m: Cannot take a larger sample than population when 'replace=False'"
     ]
    }
   ],
   "source": [
    "# Show random chunks with under 30 tokens in length\n",
    "min_token_length = 30\n",
    "for row in df[df[\"chunk_token_count\"] <= min_token_length].sample(5).iterrows():\n",
    "    print(f'Chunk token count: {row[1][\"chunk_token_count\"]} | Text: {row[1][\"sentence_chunk\"]}')"
   ]
  },
  {
   "cell_type": "code",
   "execution_count": 23,
   "id": "243f1d9e-e6f6-4c06-a542-b919b0ffb4ee",
   "metadata": {},
   "outputs": [
    {
     "data": {
      "text/plain": [
       "[{'page_number': -39,\n",
       "  'sentence_chunk': 'Human Nutrition: 2020 Edition UNIVERSITY OF HAWAI‘I AT MĀNOA FOOD SCIENCE AND HUMAN NUTRITION PROGRAM ALAN TITCHENAL, SKYLAR HARA, NOEMI ARCEO CAACBAY, WILLIAM MEINKE-LAU, YA-YUN YANG, MARIE KAINOA FIALKOWSKI REVILLA, JENNIFER DRAPER, GEMADY LANGFELDER, CHERYL GIBBY, CHYNA NICOLE CHUN, AND ALLISON CALABRESE',\n",
       "  'chunk_char_count': 308,\n",
       "  'chunk_word_count': 42,\n",
       "  'chunk_token_count': 77.0},\n",
       " {'page_number': -38,\n",
       "  'sentence_chunk': 'Human Nutrition: 2020 Edition by University of Hawai‘i at Mānoa Food Science and Human Nutrition Program is licensed under a Creative Commons Attribution 4.0 International License, except where otherwise noted.',\n",
       "  'chunk_char_count': 210,\n",
       "  'chunk_word_count': 30,\n",
       "  'chunk_token_count': 52.5}]"
      ]
     },
     "execution_count": 23,
     "metadata": {},
     "output_type": "execute_result"
    }
   ],
   "source": [
    "pages_and_chunks_over_min_token_len = df[df[\"chunk_token_count\"] > min_token_length].to_dict(orient=\"records\")\n",
    "pages_and_chunks_over_min_token_len[:2]"
   ]
  },
  {
   "cell_type": "code",
   "execution_count": 28,
   "id": "35fb3cf8-ddd1-4c7a-a73f-166835b2b6f2",
   "metadata": {},
   "outputs": [
    {
     "data": {
      "text/plain": [
       "[{'page_number': -41,\n",
       "  'sentence_chunk': 'Human Nutrition: 2020 Edition',\n",
       "  'chunk_char_count': 29,\n",
       "  'chunk_word_count': 4,\n",
       "  'chunk_token_count': 7.25},\n",
       " {'page_number': -39,\n",
       "  'sentence_chunk': 'Human Nutrition: 2020 Edition UNIVERSITY OF HAWAI‘I AT MĀNOA FOOD SCIENCE AND HUMAN NUTRITION PROGRAM ALAN TITCHENAL, SKYLAR HARA, NOEMI ARCEO CAACBAY, WILLIAM MEINKE-LAU, YA-YUN YANG, MARIE KAINOA FIALKOWSKI REVILLA, JENNIFER DRAPER, GEMADY LANGFELDER, CHERYL GIBBY, CHYNA NICOLE CHUN, AND ALLISON CALABRESE',\n",
       "  'chunk_char_count': 308,\n",
       "  'chunk_word_count': 42,\n",
       "  'chunk_token_count': 77.0}]"
      ]
     },
     "execution_count": 28,
     "metadata": {},
     "output_type": "execute_result"
    }
   ],
   "source": [
    "pages_and_chunks[:2]"
   ]
  },
  {
   "cell_type": "markdown",
   "id": "ba62a1ce-f48f-4d20-8b2d-783b6b22cde6",
   "metadata": {},
   "source": [
    "\n",
    "\n",
    "**A good place to see how different models perform on a wide range of embedding tasks is the\n",
    "\n",
    "[Hugging Face Massive Text mEmbedding Benchmark (MTEB) Leaderboard](https://huggingface.co/spaces/mteb/leaderboard).\n",
    "\n"
   ]
  },
  {
   "cell_type": "code",
   "execution_count": 26,
   "id": "f6c6ff47-e598-4c04-a6be-5660f90b9d3b",
   "metadata": {},
   "outputs": [
    {
     "data": {
      "application/vnd.jupyter.widget-view+json": {
       "model_id": "cda96f7b1bc74a50abe589de514e1427",
       "version_major": 2,
       "version_minor": 0
      },
      "text/plain": [
       "modules.json:   0%|          | 0.00/349 [00:00<?, ?B/s]"
      ]
     },
     "metadata": {},
     "output_type": "display_data"
    },
    {
     "data": {
      "application/vnd.jupyter.widget-view+json": {
       "model_id": "a509d9e01b504adb8e509b625c5489ce",
       "version_major": 2,
       "version_minor": 0
      },
      "text/plain": [
       "config_sentence_transformers.json:   0%|          | 0.00/116 [00:00<?, ?B/s]"
      ]
     },
     "metadata": {},
     "output_type": "display_data"
    },
    {
     "data": {
      "application/vnd.jupyter.widget-view+json": {
       "model_id": "215489c07a7440bbb5b99faf4c290604",
       "version_major": 2,
       "version_minor": 0
      },
      "text/plain": [
       "README.md:   0%|          | 0.00/10.3k [00:00<?, ?B/s]"
      ]
     },
     "metadata": {},
     "output_type": "display_data"
    },
    {
     "data": {
      "application/vnd.jupyter.widget-view+json": {
       "model_id": "cdbae57c3b3a47db81c5a1ec50450d24",
       "version_major": 2,
       "version_minor": 0
      },
      "text/plain": [
       "sentence_bert_config.json:   0%|          | 0.00/53.0 [00:00<?, ?B/s]"
      ]
     },
     "metadata": {},
     "output_type": "display_data"
    },
    {
     "data": {
      "application/vnd.jupyter.widget-view+json": {
       "model_id": "89309ac223204540a67c25c20f5cebfb",
       "version_major": 2,
       "version_minor": 0
      },
      "text/plain": [
       "config.json:   0%|          | 0.00/653 [00:00<?, ?B/s]"
      ]
     },
     "metadata": {},
     "output_type": "display_data"
    },
    {
     "data": {
      "application/vnd.jupyter.widget-view+json": {
       "model_id": "3e39a26ba4f7421788121ddc998e38f6",
       "version_major": 2,
       "version_minor": 0
      },
      "text/plain": [
       "model.safetensors:   0%|          | 0.00/328M [00:00<?, ?B/s]"
      ]
     },
     "metadata": {},
     "output_type": "display_data"
    },
    {
     "data": {
      "application/vnd.jupyter.widget-view+json": {
       "model_id": "c82cdfd2f1744b64b0aa5325db4f1596",
       "version_major": 2,
       "version_minor": 0
      },
      "text/plain": [
       "tokenizer_config.json:   0%|          | 0.00/333 [00:00<?, ?B/s]"
      ]
     },
     "metadata": {},
     "output_type": "display_data"
    },
    {
     "data": {
      "application/vnd.jupyter.widget-view+json": {
       "model_id": "c556c9c4c046429fb301b9e6ef375e02",
       "version_major": 2,
       "version_minor": 0
      },
      "text/plain": [
       "vocab.json:   0%|          | 0.00/798k [00:00<?, ?B/s]"
      ]
     },
     "metadata": {},
     "output_type": "display_data"
    },
    {
     "data": {
      "application/vnd.jupyter.widget-view+json": {
       "model_id": "be9fd7b19b09429e8b11bea1b5a35f21",
       "version_major": 2,
       "version_minor": 0
      },
      "text/plain": [
       "merges.txt:   0%|          | 0.00/456k [00:00<?, ?B/s]"
      ]
     },
     "metadata": {},
     "output_type": "display_data"
    },
    {
     "data": {
      "application/vnd.jupyter.widget-view+json": {
       "model_id": "34927e2f66284efb9c0f48715968da2f",
       "version_major": 2,
       "version_minor": 0
      },
      "text/plain": [
       "tokenizer.json:   0%|          | 0.00/1.36M [00:00<?, ?B/s]"
      ]
     },
     "metadata": {},
     "output_type": "display_data"
    },
    {
     "data": {
      "application/vnd.jupyter.widget-view+json": {
       "model_id": "f21705dd59a04877b4a33b71f2868ea9",
       "version_major": 2,
       "version_minor": 0
      },
      "text/plain": [
       "special_tokens_map.json:   0%|          | 0.00/239 [00:00<?, ?B/s]"
      ]
     },
     "metadata": {},
     "output_type": "display_data"
    },
    {
     "data": {
      "application/vnd.jupyter.widget-view+json": {
       "model_id": "d65b98a14b35468db05eb972e41a09a1",
       "version_major": 2,
       "version_minor": 0
      },
      "text/plain": [
       "1_Pooling/config.json:   0%|          | 0.00/190 [00:00<?, ?B/s]"
      ]
     },
     "metadata": {},
     "output_type": "display_data"
    }
   ],
   "source": [
    "from sentence_transformers import SentenceTransformer\n",
    "\n",
    "#os.environ[\"TRANSFORMERS_USE_TQDM\"] = \"1\"\n",
    "\n",
    "embedding_model = SentenceTransformer(model_name_or_path=\"all-distilroberta-v1\",\n",
    "                                      device=\"cuda\")"
   ]
  },
  {
   "cell_type": "code",
   "execution_count": 27,
   "id": "97ee9c56-b69d-4f5e-8dd6-0709f400155e",
   "metadata": {
    "scrolled": true
   },
   "outputs": [
    {
     "name": "stderr",
     "output_type": "stream",
     "text": [
      "c:\\Users\\pc\\AppData\\Local\\Programs\\Python\\Python310\\lib\\site-packages\\transformers\\models\\roberta\\modeling_roberta.py:370: UserWarning: 1Torch was not compiled with flash attention. (Triggered internally at C:\\actions-runner\\_work\\pytorch\\pytorch\\builder\\windows\\pytorch\\aten\\src\\ATen\\native\\transformers\\cuda\\sdp_utils.cpp:555.)\n",
      "  attn_output = torch.nn.functional.scaled_dot_product_attention(\n"
     ]
    },
    {
     "name": "stdout",
     "output_type": "stream",
     "text": [
      "Sentence: The Sentence Transformer library provides an easy way to create embeddings.\n",
      "Embedding: [-3.82707305e-02 -2.40660403e-02 -8.63315444e-03 -9.44456644e-03\n",
      " -4.32338566e-02  3.05006225e-02 -3.92312296e-02  3.61014940e-02\n",
      " -5.11273406e-02 -3.22665945e-02 -2.34278738e-02 -8.25431198e-03\n",
      " -1.78676266e-02 -2.46260520e-02 -3.73779307e-03  2.16106754e-02\n",
      "  7.35268518e-02 -3.05070309e-03 -1.45964390e-02 -1.93310659e-02\n",
      "  6.07311446e-03 -3.66163477e-02 -2.52814610e-02 -4.41570841e-02\n",
      " -2.87137013e-02  2.77994610e-02  6.42610639e-02  2.07428727e-02\n",
      " -7.27145560e-03  1.77815966e-02 -1.74096003e-02  3.72541100e-02\n",
      "  1.39402156e-03  2.68169567e-02  2.54596416e-02 -2.97865346e-02\n",
      "  4.77371700e-02 -4.08041244e-03 -1.44203603e-02  1.32387038e-02\n",
      " -1.19107086e-02  8.45288336e-02 -7.04579577e-02  4.42132875e-02\n",
      "  2.10125633e-02 -1.99600891e-03 -5.83000332e-02 -6.52251616e-02\n",
      "  1.13478093e-03  1.65858853e-03  1.26697524e-02 -2.27640532e-02\n",
      " -2.54249312e-02  1.23267854e-02 -4.47307015e-03  3.52876149e-02\n",
      "  3.47252074e-03 -3.82906431e-03  6.20510355e-02 -2.67070020e-03\n",
      "  2.47528534e-02  1.51687795e-02 -4.39698622e-02 -2.27149576e-02\n",
      "  1.01614736e-01 -3.33558470e-02 -4.17280234e-02  2.32523456e-02\n",
      "  1.57892719e-04 -6.64223433e-02 -8.28740653e-03 -1.31113566e-02\n",
      " -2.56314725e-02 -5.79161160e-02 -1.57283470e-02 -6.70045093e-02\n",
      " -2.97186561e-02 -1.74602289e-02 -8.41881800e-03  3.38602066e-02\n",
      "  2.87370048e-02  4.99976426e-02 -1.97221115e-02 -3.50752138e-02\n",
      "  5.35063222e-02  6.85499534e-02  2.35638395e-02 -3.73595990e-02\n",
      " -1.24179693e-02  2.71167103e-02 -2.51471456e-02 -5.46292344e-04\n",
      "  3.73295508e-02 -3.00211292e-02  3.19476379e-03  1.85124483e-02\n",
      "  1.20509956e-02 -2.25680191e-02 -3.77026908e-02 -2.51411609e-02\n",
      "  5.57487831e-02  3.86655852e-02  6.98723719e-02 -6.28290523e-04\n",
      "  5.85514493e-03  3.87304612e-02 -2.75648311e-02 -6.08502403e-02\n",
      "  6.11776188e-02 -2.59173438e-02 -1.93816796e-03 -7.97391385e-02\n",
      "  5.39187621e-03 -5.39886169e-02  2.01833118e-02 -5.82313389e-02\n",
      "  2.60002054e-02 -1.48892878e-02  2.53391806e-02 -5.14793172e-02\n",
      "  2.38481127e-02  1.36862723e-02  8.09331518e-03 -1.42609989e-02\n",
      " -6.44539818e-02 -1.68637896e-03  1.55226151e-02  6.24363981e-02\n",
      " -6.31257743e-02  3.05653885e-02  3.56541835e-02 -4.25805412e-02\n",
      " -1.90203078e-02 -6.79582078e-03 -1.51134748e-02  1.00055328e-02\n",
      "  6.44206181e-02  4.25789356e-02 -6.11221045e-02  4.39327322e-02\n",
      "  2.31251940e-02  1.18627250e-02 -7.73274666e-03 -1.32988021e-02\n",
      "  1.37417410e-02  5.35864346e-02 -1.03536146e-02  1.69694778e-02\n",
      " -6.62668869e-02  5.15944734e-02  1.29139787e-02  1.88193787e-02\n",
      "  6.05455674e-02 -3.23425718e-02 -3.28060500e-02  1.23061342e-02\n",
      "  3.22637036e-02  2.25041267e-02 -1.63804702e-02  1.50758016e-03\n",
      "  3.74557003e-02  5.59546575e-02  2.08293442e-02  1.79609563e-02\n",
      "  5.40303774e-02  8.94348882e-03  4.18952033e-02 -1.06639080e-02\n",
      "  2.56151129e-02  1.89826312e-03  1.83393564e-02  3.96183319e-03\n",
      " -1.39189959e-02  2.44729258e-02 -2.94816289e-02 -2.61203963e-02\n",
      "  4.04370800e-02  7.14895502e-02 -3.86181399e-02  1.26512805e-02\n",
      " -2.87520196e-02 -7.45266955e-03 -9.38717350e-02  3.50906514e-02\n",
      " -6.59775222e-03 -5.26496500e-04  2.80737411e-03 -6.51730970e-02\n",
      "  3.84015031e-02 -6.59969300e-02  7.80178383e-02 -1.38661060e-02\n",
      " -3.48285250e-02  4.10457700e-02 -6.78608343e-02 -6.14273138e-02\n",
      "  5.40096164e-02  5.39355027e-03  3.88855976e-03 -3.76898423e-02\n",
      " -4.04828042e-02  1.78050585e-02 -5.53769118e-04  2.38962583e-02\n",
      "  6.86981622e-03  1.65583678e-02  5.07267006e-02 -7.62945935e-02\n",
      " -1.53140100e-02 -7.96304177e-03 -1.10918507e-02 -4.30769473e-02\n",
      " -5.37069440e-02 -6.19793236e-02 -1.43028898e-02  4.79925871e-02\n",
      "  4.86827679e-02 -1.00117112e-02  7.95322955e-02  3.15087773e-02\n",
      " -2.12645009e-02  1.61031764e-02 -2.34380737e-02 -6.74855113e-02\n",
      "  6.23072535e-02  1.17014591e-02  2.98398267e-02 -4.99801803e-03\n",
      " -3.81858908e-02 -5.47787808e-02  1.68140959e-02 -3.64039093e-02\n",
      "  6.81600124e-02 -2.44472269e-03 -1.20726209e-02  9.02781487e-02\n",
      " -1.69983171e-02 -2.15438660e-02  1.00147091e-01 -1.14159375e-01\n",
      "  3.52908596e-02 -5.91745526e-02  1.72457006e-02  1.05740009e-02\n",
      "  6.30456442e-03 -2.48043761e-02  6.49349838e-02 -4.22468372e-02\n",
      "  1.91940591e-02 -2.20131665e-03 -2.43179016e-02  1.21602986e-03\n",
      " -4.27154265e-02 -1.64285433e-02  3.56649682e-02 -8.31318181e-03\n",
      "  4.82577570e-02  3.23161893e-02  2.40285806e-02  2.27505118e-02\n",
      " -9.80363134e-03 -1.92329157e-02 -3.22303623e-02  5.79815134e-02\n",
      " -5.60843833e-02 -1.69918058e-03  5.10876514e-02  5.11186123e-02\n",
      "  1.99088138e-02 -1.61143020e-02 -1.14463484e-02  5.42226359e-02\n",
      " -1.39953140e-02  7.50365183e-02  2.69529987e-02  2.33859736e-02\n",
      "  2.55691390e-02 -2.27433331e-02  3.66493780e-03  1.23872682e-02\n",
      "  6.34790882e-02 -5.32115325e-02  6.92682415e-02  4.52093743e-02\n",
      "  3.03138746e-03  2.96119675e-02 -2.26820447e-02  1.75449122e-02\n",
      "  6.25746176e-02 -3.72520834e-02 -4.27280031e-02 -3.04760877e-04\n",
      "  3.51200551e-02  3.09537947e-02 -1.86862759e-02 -9.93734039e-03\n",
      "  3.73219117e-03 -2.01116665e-03  4.16655689e-02 -6.08488247e-02\n",
      " -7.09724948e-02  2.65633706e-02 -7.32128555e-03 -3.43891233e-03\n",
      " -4.01933026e-03 -3.42719406e-02 -1.77305620e-02 -2.23178174e-02\n",
      " -7.06704333e-02 -1.39785362e-02  1.82428807e-02 -1.15023879e-02\n",
      "  1.50749953e-02  4.35194038e-02  2.92194765e-02 -2.10276134e-02\n",
      " -2.48822011e-02  2.41485462e-02 -2.65017319e-02 -4.23884615e-02\n",
      " -1.89909767e-02 -6.62497282e-02  9.16875619e-03 -1.65382475e-02\n",
      "  1.36158066e-02  4.82556596e-03  2.64283326e-02 -1.75679103e-03\n",
      "  1.18594966e-03 -1.39156263e-02 -3.20800543e-02  7.02860998e-03\n",
      " -1.04060963e-01  1.77740250e-02 -1.27688330e-02 -5.97590860e-03\n",
      "  2.70219240e-02  4.23247751e-04 -4.59772162e-02 -3.39125805e-02\n",
      " -3.77201401e-02 -2.77498383e-02  2.19811723e-02 -1.14324298e-02\n",
      " -1.60575134e-03  2.31420752e-02 -2.41170321e-02  1.71273295e-02\n",
      "  5.45602441e-02  2.21581882e-04 -5.93805127e-02  7.68504217e-02\n",
      " -4.90115508e-02  1.81815457e-02  2.41323542e-02 -2.54120454e-02\n",
      "  1.33734541e-02  2.73290873e-02  2.18050461e-02  2.53714770e-02\n",
      " -7.91464746e-03  3.33633907e-02  4.37702984e-03 -3.89426425e-02\n",
      " -1.73391383e-02  2.96456553e-02 -5.90165034e-02  2.65375581e-02\n",
      "  4.77590878e-03 -4.47941385e-02 -6.28457963e-03  8.54180753e-02\n",
      "  1.89457368e-02 -1.05458423e-01 -4.25870232e-02  2.90742256e-02\n",
      " -3.34908813e-02  1.76614430e-02 -3.03603895e-02  8.85480456e-03\n",
      " -1.79148335e-02  1.90660842e-02 -2.12840401e-02  1.08628650e-03\n",
      " -1.57909747e-02 -1.56168994e-02  2.26182807e-02  4.06027958e-02\n",
      " -9.99120716e-03  5.55943837e-03 -1.55913578e-02  5.56272119e-02\n",
      " -3.41957323e-02 -4.13557999e-02 -8.42166133e-03  4.63227043e-03\n",
      "  4.79363650e-02 -1.52863842e-03  3.11698802e-02 -5.23233935e-02\n",
      " -3.41310464e-02  2.75199525e-02  3.69916074e-02  6.68309778e-02\n",
      "  7.83534795e-02 -1.42566320e-02 -3.86489352e-04 -4.22381982e-02\n",
      "  3.00641805e-02  9.07831173e-03  5.04484326e-02  1.65036451e-02\n",
      " -2.09035724e-02 -2.27048881e-02  7.43625313e-02 -2.76329648e-02\n",
      " -1.36406925e-02 -3.41392681e-02  6.17172122e-02  1.95058510e-02\n",
      " -3.11364606e-02  2.40510777e-02  8.74065980e-03  7.16624840e-04\n",
      " -1.78712364e-02 -4.70488984e-03 -1.61719341e-02 -2.95180306e-02\n",
      " -1.52695086e-02 -6.61760345e-02  3.65286358e-02 -2.22897474e-02\n",
      "  5.20064980e-02  2.07390934e-02 -1.23461429e-02 -2.67416611e-02\n",
      " -2.23818738e-02  5.32062873e-02  2.71599013e-02  4.47324924e-02\n",
      " -6.02760725e-02  5.00817113e-02  1.70462001e-02 -2.04468574e-02\n",
      " -6.08303361e-02 -2.30218358e-02 -7.30873412e-03 -1.99107789e-02\n",
      " -3.55458818e-02  1.34811893e-01  2.47153658e-02  1.42802401e-02\n",
      " -3.00883334e-02 -1.36267031e-02  7.04442114e-02 -1.20543154e-04\n",
      " -3.23716812e-02 -1.86391491e-02 -3.85030620e-02  1.58131719e-02\n",
      "  4.39325608e-02  2.35692151e-02  1.14171561e-02 -4.85873688e-03\n",
      " -7.82314874e-03 -5.47391921e-02  8.24389979e-02 -2.06027105e-02\n",
      " -5.05326912e-02 -3.12381685e-02 -8.07870552e-03 -2.61483155e-02\n",
      " -4.41287979e-02  4.30293009e-02 -2.46420335e-02  4.54939380e-02\n",
      "  1.03039863e-02  3.12286187e-02  2.23620739e-02 -3.15280184e-02\n",
      "  2.94986758e-02 -2.41409782e-02  3.19460444e-02 -2.18117479e-02\n",
      " -1.47844041e-02 -6.21421775e-03 -3.07558868e-02  3.22928429e-02\n",
      " -6.40869513e-02 -6.55752271e-02 -4.37696651e-03 -5.78817427e-02\n",
      " -2.26314161e-02  7.61370808e-02  1.83072923e-33 -2.90064886e-03\n",
      "  3.88521105e-02 -2.65337452e-02 -1.57038569e-02  5.01856916e-02\n",
      "  1.69855505e-02 -3.23852822e-02 -6.24086056e-03  1.59045290e-02\n",
      " -1.44477328e-02 -1.01284012e-02  3.89823727e-02  4.54009697e-03\n",
      "  7.28208050e-02  1.03226546e-02 -3.24428305e-02 -5.31549677e-02\n",
      "  5.24321273e-02 -2.16346625e-02 -2.36483216e-02 -3.59474868e-02\n",
      " -7.21362904e-02  6.99833706e-02  1.38390251e-02  7.26590957e-03\n",
      " -3.43890749e-02 -2.78317723e-02  1.45571586e-02  2.52709817e-03\n",
      "  1.90629046e-02  1.35377981e-02 -7.04498868e-03 -5.16955974e-03\n",
      " -4.34475914e-02 -2.40416899e-02 -2.45565306e-02 -3.03808763e-03\n",
      " -6.91535324e-03  2.03401949e-02  7.92618617e-02 -3.08435988e-02\n",
      " -6.98552979e-03  1.33382725e-02 -8.93501285e-03 -2.16615926e-02\n",
      "  1.22448588e-02  4.41937074e-02  1.44828772e-02  1.53021095e-02\n",
      " -6.50393665e-02  5.17403968e-02  3.65756601e-02  1.63853616e-02\n",
      " -2.76747532e-02 -2.42867302e-02  2.71667894e-02  1.20356828e-02\n",
      "  1.84921026e-02  5.90381175e-02  2.29780748e-02  4.73378338e-02\n",
      "  6.70055579e-03 -1.06560532e-03 -1.56797189e-02  1.71500351e-02\n",
      "  6.75036386e-02  6.52484074e-02 -1.05147623e-02  3.84087823e-02\n",
      " -2.72127669e-02 -9.70118307e-03 -1.51177570e-02  2.56072544e-02\n",
      "  5.98753132e-02  1.48688983e-02  7.02416599e-02 -7.64436089e-03\n",
      "  4.61430177e-02  7.33966678e-02 -5.50433658e-02  1.02071213e-02\n",
      " -1.29716797e-02 -5.48637249e-02 -2.64771320e-02 -1.40310833e-02\n",
      " -5.11055812e-02  6.55258894e-02  2.41082944e-02  2.10483242e-02\n",
      "  1.27064623e-02  7.47284815e-02  6.13461174e-02  6.55839890e-02\n",
      " -1.26997510e-03 -2.02324498e-03 -2.30904743e-02 -5.14802523e-02\n",
      " -8.81446467e-04  1.94078282e-04 -9.41545994e-04  3.61607634e-02\n",
      " -6.99351775e-03 -6.31453516e-03  1.11341160e-02  3.12868096e-02\n",
      "  2.92062350e-02  2.47296598e-03 -2.90553109e-03  2.39055678e-02\n",
      " -3.00969873e-02  9.62419342e-03  1.49334725e-02 -3.92268077e-02\n",
      " -2.91596502e-02  2.48325174e-04 -2.17885897e-02  3.16212419e-04\n",
      "  4.35814373e-02  1.40404124e-02 -1.70595329e-02  1.46254664e-02\n",
      "  1.37884421e-02  3.75294052e-02  4.67590988e-02 -2.09122952e-02\n",
      "  5.37623651e-02 -9.05150250e-02 -6.35407399e-03  1.60188265e-02\n",
      "  6.29865937e-03 -3.44353616e-02 -1.28255012e-02  5.20337885e-03\n",
      " -4.38822620e-03 -2.64989492e-02  2.38673086e-03  2.43719202e-02\n",
      " -4.41886410e-02 -5.80735458e-03 -2.12124866e-02  3.93471047e-02\n",
      "  6.26884997e-02  4.95602824e-02 -1.70095433e-02 -5.38982414e-02\n",
      " -1.10605331e-02 -5.93249016e-02 -1.21953497e-02  1.46657676e-02\n",
      "  1.35329645e-03 -5.34421466e-02 -2.63905022e-02 -4.47269669e-03\n",
      " -6.16052514e-03  3.52447666e-02  6.96143368e-03 -2.43895575e-02\n",
      "  6.41316548e-02  3.40372953e-03  1.54565985e-03  3.23707866e-03\n",
      "  1.72305088e-02 -1.37789361e-02  2.78267413e-02  3.24208811e-02\n",
      "  2.32656859e-02  5.41617535e-03  4.20737499e-03  2.28022486e-02\n",
      "  1.84082780e-02 -4.74758744e-02  1.09282490e-02  6.72947392e-02\n",
      " -4.47572488e-03  4.92742248e-02 -4.22363989e-02  2.40794588e-02\n",
      "  2.71728281e-02 -4.36673872e-03 -5.28698973e-02 -8.93374160e-03\n",
      " -8.48241150e-03 -6.22980259e-02 -3.08064595e-02  1.31090209e-02\n",
      " -1.53032076e-02  2.65782699e-02  9.79536399e-03 -4.75479104e-02\n",
      "  3.10177505e-02  2.90638115e-02  2.39753928e-02  1.27658360e-02\n",
      " -3.68855335e-02  4.79451530e-02 -5.00202812e-02  3.01940162e-02\n",
      "  3.05682644e-02 -6.93525448e-02 -2.78121680e-02 -8.46934225e-03\n",
      " -1.52418138e-02 -3.48050660e-03 -5.31510226e-02 -3.73106413e-02\n",
      " -9.50788800e-03  9.07700229e-03  5.06570451e-02 -6.46115374e-03\n",
      "  2.55373344e-02 -1.22971507e-02  5.64559251e-02 -2.21996624e-02\n",
      " -3.14703444e-03 -5.08643091e-02 -2.77539808e-02  4.25407998e-02\n",
      " -1.28147257e-02 -8.17562081e-03  2.68330965e-02 -3.19393910e-02\n",
      " -4.47201431e-02  1.60457436e-02 -5.14913499e-02 -6.06438785e-04\n",
      " -3.72003987e-02 -2.76844669e-02  1.19732767e-02 -2.25417539e-02\n",
      " -6.67695934e-03  2.42612269e-02 -1.40429586e-02 -1.38419699e-02\n",
      " -7.63841579e-03 -3.27722426e-03  2.89292969e-02 -1.57123040e-02\n",
      "  5.95793724e-02  2.54067276e-02  4.30513397e-02  4.56557386e-02\n",
      "  1.31273794e-03  1.17630027e-02 -2.06044838e-02 -2.27411296e-02\n",
      " -1.35069340e-02 -2.25641113e-02  6.67466894e-02 -3.75118032e-02\n",
      " -1.63851790e-02 -4.12821956e-02 -3.28593925e-02 -4.45836633e-02\n",
      "  3.27182822e-02  2.72633508e-03  5.23019060e-02  7.68281370e-02\n",
      " -3.79557014e-02 -5.45209050e-02  1.44642731e-02 -7.90670794e-03\n",
      "  2.31485683e-02  2.17054971e-02 -2.96043921e-02 -1.82070478e-03\n",
      " -3.12302615e-02 -8.83126073e-03  1.70580782e-02 -2.70258617e-02\n",
      "  9.86583158e-02  3.35997976e-02  4.94986447e-03 -2.73282989e-04]\n",
      "\n",
      "Sentence: Sentences can be embedded one by one or in a list.\n",
      "Embedding: [-6.88272202e-03 -3.04882345e-03  1.53249800e-02 -4.34950925e-03\n",
      "  2.38508510e-05  4.31532227e-02 -4.57231365e-02  4.89675812e-02\n",
      " -1.98761541e-02 -8.39801040e-03 -1.96479745e-02 -3.86568457e-02\n",
      " -2.92828791e-02 -3.12142689e-02 -3.45316455e-02  3.17975841e-02\n",
      "  2.56669428e-02 -7.74589740e-03  6.28184155e-03 -5.29896189e-03\n",
      "  1.13316970e-02 -2.99456436e-02  2.14587376e-02 -1.40042407e-02\n",
      " -3.62632386e-02  6.01475872e-03  3.88892703e-02  2.27783900e-02\n",
      " -4.15659398e-02  2.70088557e-02 -2.53041182e-02  6.96102306e-02\n",
      " -1.02990987e-02 -5.63931558e-03  3.68845463e-02  1.80781558e-02\n",
      "  3.72720398e-02  2.71443222e-02 -4.54048533e-03 -1.63623318e-02\n",
      " -7.94721693e-02  8.45323354e-02 -9.91399214e-03  5.12552038e-02\n",
      "  2.80043781e-02  4.04780880e-02 -1.28714386e-02 -5.16890511e-02\n",
      " -1.68500114e-02  1.25283422e-02  2.01439448e-02  5.15332446e-03\n",
      " -3.73112001e-02 -5.08361310e-03 -1.87576357e-02  3.38200964e-02\n",
      "  2.12378819e-02 -3.34632955e-02 -1.84735451e-02 -1.64948236e-02\n",
      "  2.32127756e-02 -3.28782611e-02 -6.18581064e-02 -4.83298767e-03\n",
      "  1.29477933e-01  8.40190146e-03 -2.40304284e-02  2.86545586e-02\n",
      " -4.34593624e-03 -4.33129519e-02  2.61716498e-03 -4.82037589e-02\n",
      " -2.10288353e-02 -6.33928701e-02  2.81028692e-02 -8.71422291e-02\n",
      " -2.28823368e-02 -7.27395266e-02 -2.51502953e-02 -1.21767102e-02\n",
      "  2.99246553e-02  4.83989716e-02 -4.22965251e-02 -2.17435248e-02\n",
      "  7.70009086e-02  6.02317974e-03 -4.59282054e-03 -2.10523698e-02\n",
      " -3.79103608e-02  4.77579469e-03 -3.18099223e-02  3.03736571e-02\n",
      "  2.53766887e-02 -2.26014573e-02 -1.55905299e-02  2.31228359e-02\n",
      "  2.07761489e-02  2.67959982e-02 -2.15360709e-02 -1.30422264e-02\n",
      "  3.57397906e-02  2.09875386e-02  4.61245626e-02  1.61771495e-02\n",
      " -1.80290714e-02  5.34338988e-02 -3.90976258e-02 -3.46707255e-02\n",
      "  1.71688925e-02  1.37010030e-02  1.74784865e-02 -6.70849532e-02\n",
      "  2.28907075e-02 -4.28473577e-02  4.77818353e-03 -7.12002218e-02\n",
      "  2.93822866e-02  5.35321049e-03  1.23951184e-02  4.49122675e-03\n",
      " -4.60333377e-03 -4.34053130e-02 -3.27762999e-02  1.87426489e-02\n",
      " -5.35382442e-02  2.73515712e-02  3.63780409e-02 -3.26477289e-02\n",
      " -4.71027084e-02  2.96790134e-02  3.07378508e-02  9.20314749e-04\n",
      " -9.66336764e-03 -7.48283714e-02 -1.70695819e-02 -2.02697446e-03\n",
      "  8.38263799e-03  1.66686010e-02 -3.73877101e-02  1.55184623e-02\n",
      "  3.29548009e-02 -3.03951837e-03  7.20081944e-03 -4.78185974e-02\n",
      "  3.40346582e-02  3.06053590e-02 -1.20164305e-02  2.54117977e-02\n",
      "  9.73444153e-03  5.95700070e-02  1.81258116e-02  2.95220148e-02\n",
      " -4.38556299e-02 -1.33957211e-02  2.00900324e-02  4.56887111e-02\n",
      " -1.18033113e-02  1.68647524e-02  1.17922025e-02  1.03581073e-02\n",
      "  2.27615666e-02  1.77449528e-02  2.88604610e-02  4.08986397e-02\n",
      "  2.94140447e-02  9.74816212e-04  2.13430617e-02 -2.23014620e-03\n",
      "  1.92894321e-02  5.34251146e-03  3.99008133e-02 -2.05626339e-02\n",
      " -5.14679290e-02 -2.42288690e-02 -3.64916436e-02 -1.53064271e-02\n",
      "  4.53956751e-03  1.87228564e-02 -2.77837715e-03  1.48955090e-02\n",
      "  7.44320592e-03  6.11264221e-02 -8.92688558e-02 -4.28270102e-02\n",
      "  2.00224202e-02 -3.95608209e-02  4.69603390e-02 -5.17741330e-02\n",
      " -2.29651425e-02 -1.04456671e-01  3.99781317e-02  4.02888246e-02\n",
      " -4.88182679e-02  1.32148275e-02 -8.58108550e-02 -2.97334902e-02\n",
      "  4.53974344e-02  5.48444781e-03  4.96836267e-02 -4.72530909e-02\n",
      " -9.67335422e-03 -3.36966813e-02  4.41290848e-02  5.21345027e-02\n",
      "  9.05409921e-03  2.07000598e-02 -3.85811329e-02 -3.38002928e-02\n",
      " -5.24431989e-02  2.14898456e-02  9.75157320e-03 -3.43809836e-02\n",
      " -1.11059723e-02 -1.30500123e-02 -1.71531271e-02  3.94173115e-02\n",
      "  5.28172515e-02  4.46005054e-02  1.73200220e-02  4.16931994e-02\n",
      " -3.58965888e-04  1.11184558e-02 -2.41590329e-02  1.06129730e-02\n",
      "  5.08564711e-02  2.61602849e-02 -2.45221648e-02  1.96694788e-02\n",
      " -4.72330861e-02 -4.57878225e-02  2.47563398e-03 -2.21098531e-02\n",
      "  9.17049218e-03 -6.38283277e-03  1.09231118e-02  3.91304754e-02\n",
      " -5.09450398e-02  1.47068892e-02  7.86543861e-02 -7.61086121e-02\n",
      " -1.55352233e-02  1.02936411e-02 -1.49235483e-02 -1.05680432e-02\n",
      " -4.01846459e-03 -5.01927659e-02  5.80649227e-02 -3.60396914e-02\n",
      "  2.19262522e-02  2.96662673e-02  3.74353230e-02 -1.93651672e-02\n",
      "  1.13058025e-02 -2.01110654e-02  6.01098165e-02 -3.07799578e-02\n",
      "  4.32537869e-02  1.33684147e-02  8.07468370e-02  7.78929666e-02\n",
      " -4.90851514e-03 -1.04254885e-02 -3.27310264e-02  6.04065880e-02\n",
      " -2.54068598e-02 -3.22096571e-02 -1.35519737e-02  4.49430980e-02\n",
      "  1.57590136e-02 -1.89979989e-02  2.21124049e-02  3.55614945e-02\n",
      " -1.40220262e-02  1.98878385e-02  2.98359729e-02  1.08573623e-02\n",
      "  1.80318728e-02 -2.49677170e-02 -4.07337211e-02 -4.90739495e-02\n",
      "  7.05695897e-02 -7.02117905e-02  3.22184339e-02  3.03167496e-02\n",
      "  7.33932294e-03  2.13978458e-02 -3.94573174e-02  6.62214383e-02\n",
      "  6.30852580e-02 -3.11672837e-02 -3.39328647e-02 -4.93733324e-02\n",
      "  7.57480972e-04  3.42500843e-02  2.50795879e-03 -5.24968421e-03\n",
      "  2.81154178e-02 -2.21257079e-02  3.38755772e-02 -7.22195953e-02\n",
      " -6.55036345e-02  5.15201353e-02 -2.23713275e-02 -8.72374792e-03\n",
      "  1.51368519e-02  1.79203730e-02  1.73353008e-03 -2.14901548e-02\n",
      "  5.85351512e-02  5.86596765e-02  1.73962098e-02  4.90234494e-02\n",
      " -1.76117457e-02  5.82918562e-02 -2.48120949e-02  5.61936619e-03\n",
      " -5.75474389e-02 -4.91792597e-02  7.00068893e-03 -2.05035675e-02\n",
      " -3.36494558e-02 -7.04731494e-02 -3.07714790e-02 -5.10097481e-02\n",
      " -1.99693311e-02  1.42640928e-02 -2.11545825e-02 -1.76666677e-02\n",
      " -1.55212218e-03 -1.30482612e-03  2.36642174e-02  3.28096189e-02\n",
      " -8.19785297e-02  1.33349318e-02  1.23590315e-02 -4.12881337e-02\n",
      " -7.46258302e-03  1.28714601e-02 -4.79649603e-02 -2.53929943e-02\n",
      " -3.82679030e-02 -3.18364426e-02 -1.32302213e-02  6.37061661e-04\n",
      "  3.25596109e-02 -2.30123121e-02 -3.20754852e-03 -8.32024775e-03\n",
      "  7.72186276e-03  3.46640609e-02 -1.88477151e-02  4.72938009e-02\n",
      " -1.96891949e-02  1.51856700e-02  4.44680490e-02 -4.06617634e-02\n",
      " -2.88288519e-02  2.05787756e-02  6.51290035e-03 -9.78065096e-03\n",
      " -2.61666793e-02  1.20130982e-02  3.85678709e-02 -3.10459230e-02\n",
      "  1.16640050e-02 -6.37334771e-03 -3.60309593e-02  6.29898086e-02\n",
      " -4.99544367e-02 -3.98897678e-02  2.28676256e-02  7.55787715e-02\n",
      " -1.35564031e-02 -6.75467253e-02 -2.63239108e-02  2.42007803e-02\n",
      " -3.67194377e-02  8.39141104e-03  4.23855148e-02  4.16799560e-02\n",
      " -3.33804451e-02 -5.00825327e-03 -4.44873935e-03 -2.67849187e-04\n",
      "  1.13739520e-02 -4.25550528e-03  3.31601799e-02 -1.24753239e-02\n",
      "  2.48809028e-02 -4.37953928e-03  5.09883165e-02  4.02171463e-02\n",
      " -2.08880529e-02  3.70830344e-03 -4.80071933e-04 -1.82279646e-02\n",
      "  2.16748845e-02  9.73674934e-03  6.73227152e-03 -3.03142089e-02\n",
      "  1.98648702e-02  4.75986023e-03  3.19891274e-02  2.73386831e-03\n",
      "  4.37040329e-02  2.86248159e-02 -4.41546030e-02 -4.12120949e-03\n",
      "  2.33254675e-02  3.43875811e-02  7.29027912e-02  4.38995771e-02\n",
      " -1.66991283e-03 -5.91156445e-02  5.56552112e-02 -2.49690097e-02\n",
      "  1.06545510e-02  2.00337209e-02 -4.40761680e-03  3.61333997e-03\n",
      "  4.78006564e-02 -1.05835581e-02 -1.68667417e-02 -3.14510167e-02\n",
      " -3.31113413e-02  5.73054589e-02  3.55757177e-02 -4.21215408e-02\n",
      " -5.02800234e-02 -3.48816887e-02 -1.40603445e-03  1.27138523e-02\n",
      "  9.65504255e-03  1.54826418e-02 -5.59660792e-03 -3.16530988e-02\n",
      "  2.67299172e-03 -1.26757857e-03  7.89246708e-02  1.18765971e-02\n",
      " -2.37475801e-02  4.28417288e-02  5.73430732e-02 -9.64496285e-03\n",
      " -1.99151039e-02 -3.89834493e-02  3.86744253e-02 -9.11073666e-03\n",
      " -3.55405398e-02  7.86072239e-02  1.01292096e-02  2.19696816e-02\n",
      " -3.94452028e-02 -2.68843435e-02  5.07437624e-02  7.25666583e-02\n",
      "  1.66348144e-02 -5.45246713e-02 -3.86767164e-02  2.24564830e-03\n",
      "  2.21584775e-02  3.27897184e-02  5.61937317e-03  3.38084064e-02\n",
      "  3.41995768e-02 -6.35400862e-02 -1.04918154e-02 -2.87400205e-02\n",
      " -4.11673859e-02  3.74711957e-03 -7.54288286e-02 -7.49081820e-02\n",
      " -1.36800436e-02  1.57516990e-02 -4.85966355e-03 -4.47631610e-04\n",
      " -1.32290907e-02  8.17115139e-03  1.75531246e-02 -3.40198190e-03\n",
      "  1.25488369e-02  2.31759832e-03 -3.26911965e-03 -2.39215195e-02\n",
      " -1.67019852e-02  1.08445249e-02  4.69068997e-03  7.78888958e-03\n",
      " -3.09661943e-02 -8.34731013e-02  9.10677854e-03 -3.76462042e-02\n",
      "  2.02343203e-02  3.15063447e-02  2.14343938e-33 -2.74944976e-02\n",
      " -5.01612527e-03 -3.35772894e-02 -1.45196654e-02  1.77668931e-03\n",
      "  2.89529432e-02 -2.88133416e-02  4.97553125e-02  3.93693306e-04\n",
      "  6.85442379e-03  7.17374869e-03  7.57863419e-03 -1.73981376e-02\n",
      "  4.26971316e-02  1.76672377e-02  1.60614140e-02 -5.27565368e-02\n",
      "  5.62119186e-02  1.24477772e-02 -3.27479094e-02 -3.40842120e-02\n",
      " -3.98211218e-02 -2.43804231e-03 -2.72154212e-02  7.33357966e-02\n",
      " -2.53238883e-02 -4.59558517e-02  1.90667454e-02 -2.85561625e-02\n",
      "  2.31866278e-02  3.20090825e-04 -3.07648871e-02 -2.11201236e-02\n",
      " -4.41119596e-02 -3.83848175e-02 -6.65171370e-02  9.64926498e-04\n",
      " -4.87876609e-02  4.77016382e-02  2.11345498e-02 -1.43779153e-02\n",
      "  1.21285878e-02  9.40010976e-03 -2.12309067e-03 -6.80888668e-02\n",
      " -7.91550498e-04  4.86145467e-02  1.16585577e-02  1.09145464e-02\n",
      "  2.23189406e-02  5.40487729e-02  6.58051223e-02  2.69783605e-02\n",
      " -3.22033986e-02 -3.23065780e-02  4.80589978e-02  3.26388031e-02\n",
      " -4.38137800e-02  9.16052610e-02  3.44977975e-02 -1.72987059e-02\n",
      "  7.45218098e-02  5.69392554e-03 -1.01479869e-02 -5.08686490e-02\n",
      "  9.78645757e-02  5.77277355e-02 -3.13880928e-02  1.69551317e-02\n",
      "  2.75575202e-02  3.92117016e-02  8.95040575e-03 -4.78172116e-03\n",
      "  2.97234231e-03 -2.43779528e-03  1.26590773e-01 -2.36709858e-03\n",
      "  1.01516005e-02  7.56508633e-02 -4.71283570e-02  1.16324285e-02\n",
      "  2.20424514e-02 -2.42430475e-02 -8.49559996e-03 -8.31842981e-03\n",
      " -2.13477258e-02  4.33086976e-02  2.49250350e-03 -9.77795850e-03\n",
      "  4.96271737e-02  9.05959010e-02  8.13930556e-02  1.77407507e-02\n",
      "  7.31603825e-04  7.13848770e-02  2.65910048e-02 -5.74334301e-02\n",
      "  1.85654964e-02  9.24234930e-03 -2.23632064e-02  1.61126815e-02\n",
      "  4.99540707e-03  2.14903411e-02  1.48220733e-02 -2.88812052e-02\n",
      " -3.63351144e-02 -2.36280020e-02 -1.42592276e-02  8.84686783e-03\n",
      " -1.18217003e-02 -2.41537932e-02  6.42332882e-02 -3.81826051e-02\n",
      " -5.47714010e-02 -3.17161158e-02  3.23709436e-02 -3.88595201e-02\n",
      "  4.97871898e-02 -2.63545720e-04  8.97828266e-02 -2.54020952e-02\n",
      " -1.66521333e-02  3.32624055e-02  3.26355062e-02  9.74462926e-03\n",
      " -4.09730431e-03 -6.13870434e-02  2.34519760e-03  3.92689407e-02\n",
      " -2.00506300e-02 -5.77224530e-02 -1.45594329e-02  5.93821052e-03\n",
      " -3.76287941e-03 -2.84311567e-02 -2.73223538e-02 -1.15205534e-03\n",
      " -1.72731411e-02 -3.01949829e-02 -5.19039668e-02  1.68650486e-02\n",
      "  3.99316140e-02  7.36847371e-02 -2.23847982e-02  2.72714475e-04\n",
      " -6.31078780e-02 -3.71557362e-02 -4.14094850e-02 -3.35005037e-02\n",
      " -1.73345450e-02 -8.77213490e-04 -2.55698450e-02  1.56682748e-02\n",
      "  1.95053173e-03 -8.08655936e-03  2.25426070e-02 -6.60528913e-02\n",
      "  6.36266768e-02 -2.36750226e-02 -1.28060312e-03 -1.41505525e-03\n",
      "  2.23197192e-02 -5.75033128e-02  2.06076708e-02  7.42388004e-03\n",
      "  7.17285089e-03  3.21582891e-02 -3.01858783e-02 -6.23934157e-03\n",
      "  1.18773848e-01 -8.44560117e-02  3.50382626e-02  1.89651400e-02\n",
      "  6.53219037e-03  2.10065395e-02 -1.97722837e-02 -1.31117562e-02\n",
      "  8.88228193e-02 -1.15408953e-02 -4.49072681e-02  2.09727883e-02\n",
      "  1.65399555e-02 -4.43367027e-02 -1.06979429e-03  3.93339097e-02\n",
      " -5.76090291e-02 -2.09114626e-02  9.42715909e-03 -5.65712638e-02\n",
      "  1.59746502e-02  2.75418032e-02  1.37240430e-02  7.93513656e-02\n",
      " -6.13640808e-03  3.00248899e-02 -5.28584719e-02 -1.24156578e-02\n",
      "  1.42457765e-02  1.69395586e-03 -9.39132739e-03 -3.18706408e-02\n",
      " -5.11088073e-02 -1.38979880e-02  3.56059079e-03 -5.31791151e-03\n",
      " -2.69560199e-02 -3.40812141e-03  2.90911328e-02  2.61650048e-03\n",
      " -2.59664021e-02  2.11704187e-02  5.29178008e-02 -1.24080544e-02\n",
      "  1.35744410e-02 -1.87720433e-02  1.34185078e-02  6.53411523e-02\n",
      "  3.13722412e-03  6.86762854e-03  3.62558849e-02 -4.45920005e-02\n",
      " -9.79004055e-03  4.77586947e-02 -7.49612227e-02  5.37765725e-03\n",
      "  1.91256299e-03 -6.56291917e-02 -1.05198184e-02 -5.56363687e-02\n",
      "  4.29074652e-03 -2.57178606e-03 -8.35212599e-03 -2.26737745e-02\n",
      "  3.69230215e-03  8.80726147e-03  6.53008092e-03 -3.11780199e-02\n",
      "  5.24487719e-02  5.72159737e-02  6.15141429e-02  1.57651175e-02\n",
      "  2.86246203e-02  2.63404753e-02 -3.29024270e-02 -5.67559823e-02\n",
      "  2.05762293e-02  1.13245321e-03  1.26507608e-02 -1.01791054e-01\n",
      " -1.69401895e-02 -3.11297039e-03  1.76632721e-02 -3.79486866e-02\n",
      "  3.70268710e-02 -5.55085912e-02  2.29729135e-02  2.62009799e-02\n",
      " -2.00616289e-02 -2.86942460e-02 -5.03770150e-02 -7.98267573e-02\n",
      "  1.55250151e-02 -1.18572162e-02 -7.05888569e-02  6.45395508e-03\n",
      "  2.43142759e-03 -3.49325016e-02  1.64465001e-03  6.73764059e-03\n",
      "  9.49004889e-02  2.70230416e-02 -6.73429519e-02  4.19620052e-02]\n",
      "\n",
      "Sentence: I like horses!\n",
      "Embedding: [-1.81903057e-02  2.00098008e-02 -5.92562035e-02 -7.51811713e-02\n",
      "  5.30114323e-02 -3.41758169e-02  1.12520708e-02  3.38596031e-02\n",
      " -1.05390931e-02 -1.91063173e-02 -6.61782473e-02  7.46127963e-02\n",
      "  1.13831637e-02 -9.93108843e-04  6.56646583e-03  9.92097631e-02\n",
      " -4.65411181e-03 -4.47912067e-02  3.33198905e-02 -1.85350273e-02\n",
      " -1.01893879e-02  4.39108908e-02 -2.34282427e-02  1.37921823e-02\n",
      " -2.85405852e-02 -1.79458652e-02  2.10430194e-02  1.54212734e-03\n",
      "  6.39198497e-02 -3.27127688e-02  6.30111014e-03 -1.69459265e-02\n",
      " -2.41971593e-02  4.84853946e-02 -4.37991619e-02 -1.18899895e-02\n",
      "  3.90599407e-02 -1.84158012e-02 -2.77226623e-02  2.94383857e-02\n",
      " -2.97608208e-02  1.80801135e-02 -1.78456213e-02 -6.58395607e-03\n",
      " -6.34011906e-03 -2.48790463e-03 -2.02933718e-02  6.62172735e-02\n",
      "  3.33133452e-02  6.11876696e-02 -2.80314814e-02  5.43123446e-02\n",
      " -6.19476587e-02 -1.20604523e-02 -2.63161901e-02  5.44400550e-02\n",
      "  5.17372461e-03  6.22086087e-03  5.30222710e-03 -4.16619703e-02\n",
      "  7.37449201e-03  1.65807968e-03 -5.23639768e-02  7.59515911e-02\n",
      "  2.72940975e-02  2.47881077e-02  3.68271880e-02 -7.30827823e-02\n",
      " -2.18020808e-02 -2.29235906e-02  3.15708257e-02 -2.45902110e-02\n",
      " -7.31395325e-03 -3.39213584e-05  2.07666755e-02 -6.70288354e-02\n",
      "  6.18182262e-03  1.58936270e-02 -1.02578169e-02  5.84972985e-02\n",
      " -7.67645985e-02 -1.36365835e-03  4.56950534e-03 -2.30337344e-02\n",
      " -1.90150961e-02  1.78222060e-02  2.07793177e-03 -5.97308129e-02\n",
      "  1.77140329e-02 -9.81539488e-03  7.71961082e-03  1.51987700e-02\n",
      "  2.54087783e-02  5.04459552e-02 -2.78459471e-02  4.39092843e-03\n",
      " -4.70534340e-02 -2.35219840e-02  5.02013937e-02 -6.32016361e-03\n",
      " -5.58114471e-03  3.46037038e-02 -4.72628046e-03 -4.17842763e-03\n",
      "  3.42791155e-02 -1.84723001e-03 -8.56712833e-03 -3.24485675e-02\n",
      " -2.12260913e-02 -3.00679859e-02  8.18731859e-02 -1.72796641e-02\n",
      " -3.17812040e-02 -1.78270284e-02 -4.62672533e-03  2.12873667e-02\n",
      " -1.25573091e-02 -7.20205456e-02 -6.36490574e-03  2.88790232e-03\n",
      " -5.56336753e-02  1.04279472e-02 -5.56444516e-03  5.05749583e-02\n",
      "  2.68505514e-02 -4.77984250e-02 -2.60307789e-02 -1.08025018e-02\n",
      " -9.07720551e-02  1.86987706e-02 -4.20606770e-02  3.81670557e-02\n",
      "  2.20102519e-02 -9.54866335e-02 -2.53811548e-03 -5.55460081e-02\n",
      "  2.01306902e-02  6.10338636e-02 -1.49601251e-02  7.53658591e-03\n",
      "  3.05076316e-02  3.89519967e-02 -3.00397854e-02  4.88318801e-02\n",
      " -2.97435559e-02  4.58853506e-02 -4.20934297e-02 -2.64863949e-04\n",
      "  1.58046861e-03 -2.51385625e-02 -5.44686131e-02  2.43889801e-02\n",
      " -1.99732115e-03  2.14253664e-02 -6.94553135e-03  1.24632791e-02\n",
      " -2.53917165e-02  6.66918233e-03  1.11312768e-03 -1.13668456e-03\n",
      "  2.67749038e-02  6.91300433e-04  1.77062862e-02  4.42292541e-02\n",
      "  2.19043642e-02  1.36401197e-02  4.31034062e-03  3.30585218e-03\n",
      "  2.50439495e-02  4.95575145e-02 -5.43055981e-02  2.62229294e-02\n",
      " -3.98600288e-02 -1.93882510e-02  9.53261182e-03  1.92161724e-02\n",
      " -4.19638641e-02  4.50275615e-02  8.64205975e-03  3.02591287e-02\n",
      "  2.50196736e-02  4.49862517e-02 -6.69073313e-03 -3.46127413e-02\n",
      "  1.40619781e-02 -4.26585115e-02  2.55180337e-02  5.63967600e-02\n",
      " -6.73791096e-02  1.12790782e-02 -2.80590095e-02 -1.18522979e-02\n",
      " -2.10194383e-02 -2.99678836e-02 -2.63514016e-02  5.29681481e-02\n",
      " -2.38168184e-02 -4.55589481e-02  3.47890556e-02  1.79692954e-02\n",
      "  2.25374158e-02 -8.27204529e-03 -9.36613828e-02  1.23685924e-02\n",
      " -2.57709343e-02  1.61513558e-03 -1.63831562e-02 -2.17831898e-02\n",
      "  5.31308632e-03  1.53163755e-02  3.67491646e-03  2.03428939e-02\n",
      "  1.58658449e-03  2.74688210e-02  5.46990056e-03 -3.44505347e-02\n",
      "  2.66287383e-02  5.77445403e-02  5.60342483e-02 -4.84710559e-02\n",
      "  2.61102850e-03 -1.37108890e-02 -1.27357347e-02  4.69481610e-02\n",
      " -3.73607106e-03 -1.81456078e-02 -5.22451289e-02  1.23735871e-02\n",
      "  5.95610356e-03 -5.78833148e-02  4.45529446e-02 -3.19287647e-03\n",
      " -1.10543594e-02 -2.74139782e-03 -2.67156232e-02 -3.99060249e-02\n",
      "  4.48672548e-02  6.42816722e-02  1.56199243e-02 -4.59407456e-02\n",
      " -4.23060916e-02 -1.37137482e-02  2.78547592e-02  2.23212577e-02\n",
      "  1.51072023e-02 -3.13616358e-02 -1.01406910e-02 -1.78739410e-02\n",
      "  6.11954704e-02 -4.67694327e-02  1.13239978e-02 -5.79697825e-02\n",
      " -1.35094451e-04 -1.87363978e-02  3.48771713e-03 -8.82193819e-02\n",
      "  5.89873530e-02 -2.10716594e-02 -6.94342889e-03  3.05271633e-02\n",
      "  2.66196672e-02  1.53479772e-02 -5.80774397e-02 -1.42685696e-02\n",
      " -4.17866968e-02 -3.99491563e-03  5.37487566e-02 -3.66841583e-03\n",
      "  6.40187226e-03 -2.17217002e-02  2.25962931e-03 -2.47782264e-02\n",
      "  4.66978513e-02  1.39631121e-03 -1.07992077e-02 -4.37734239e-02\n",
      "  5.52436002e-02 -6.14243932e-03 -2.58533508e-02  6.85711997e-03\n",
      " -1.14572803e-02 -6.37609586e-02 -3.28198969e-02  1.25594428e-02\n",
      "  4.42711487e-02 -3.76925617e-02 -5.91810036e-04 -5.42500950e-02\n",
      "  3.83989625e-02 -4.61572893e-02  1.00235380e-02 -3.76714393e-02\n",
      "  7.28440434e-02  2.17902958e-02 -2.55634487e-02 -1.26408488e-02\n",
      " -1.47593755e-03  4.07872573e-02  6.17819801e-02 -5.88541403e-02\n",
      "  3.21020447e-02 -1.13981972e-02 -4.45593521e-02  1.49752079e-02\n",
      " -1.51530802e-02 -8.44629295e-03  7.02945422e-03  1.11930072e-02\n",
      " -1.62304621e-02  5.00083975e-02  2.94041634e-02 -2.31369887e-03\n",
      " -4.34686337e-03  7.24058077e-02 -6.60192519e-02 -2.82973554e-02\n",
      "  1.14913669e-03  3.17064635e-02 -2.99135619e-03  1.34856475e-03\n",
      "  7.67671503e-03  1.63532626e-02  1.31174894e-02  5.25676943e-02\n",
      "  7.28849247e-02 -1.90915093e-02 -3.81419584e-02  1.27823921e-02\n",
      "  4.50557750e-03  5.29084168e-02 -6.37416244e-02 -3.41000594e-02\n",
      " -4.02455404e-02  6.55126497e-02 -6.02949336e-02 -1.85945760e-02\n",
      "  2.78461743e-02 -4.72997781e-03  4.17190120e-02 -2.03676447e-02\n",
      " -3.35736312e-02  3.87302116e-02  5.29783033e-02 -9.31777060e-03\n",
      " -4.24724855e-02  5.98967336e-02 -1.19886696e-02  1.61181821e-03\n",
      "  1.36823989e-02  2.14717519e-02 -1.83304027e-02  4.77732830e-02\n",
      " -6.16649259e-03 -3.30956131e-02 -2.75383517e-02  6.02455102e-02\n",
      "  1.18515827e-02  1.77780557e-02 -2.54419185e-02 -1.21485377e-02\n",
      "  9.15445969e-04  3.60221341e-02  2.16929009e-04  9.86896455e-02\n",
      "  8.62082019e-02 -9.12014246e-02 -1.40919732e-02  2.11309996e-02\n",
      " -4.16886918e-02  1.48098078e-02  1.30389128e-02 -1.93458870e-02\n",
      "  4.89330478e-02 -4.65833806e-02  3.27010155e-02 -1.77728832e-02\n",
      "  6.18177392e-02  6.18301108e-02 -5.94241954e-02 -1.71490759e-02\n",
      "  5.82445413e-03  4.63142013e-03 -1.53189909e-03  2.90930714e-03\n",
      "  8.18340387e-03 -4.88864183e-02  4.90409732e-02  3.40180995e-04\n",
      "  4.85858060e-02 -4.21596579e-02 -1.44466413e-02  6.56534135e-02\n",
      "  1.81880500e-02  4.40809783e-03  3.28104347e-02 -7.11946860e-02\n",
      " -2.47010179e-02  1.09051257e-01  5.56970276e-02 -2.10652519e-02\n",
      " -4.02366705e-02 -3.75076868e-02 -4.17348258e-02 -2.27839244e-03\n",
      " -3.59046599e-03 -1.01846820e-02  1.45488344e-02 -1.68461427e-02\n",
      " -9.60734114e-03 -7.44327679e-02  4.16405015e-02 -4.08041403e-02\n",
      "  4.06255387e-02 -6.79314882e-02  3.23450789e-02  4.56167990e-03\n",
      " -1.01844175e-02 -7.88300261e-02  9.89630446e-02  1.04628233e-02\n",
      "  4.74150628e-02 -1.16217583e-02 -2.22612377e-02  4.41207401e-02\n",
      " -1.71122290e-02  5.17953523e-02  6.10449426e-02  1.00969030e-02\n",
      " -4.09623869e-02 -5.59057891e-02  1.57721061e-02 -1.96916014e-02\n",
      " -2.16786899e-02  1.58256311e-02 -3.74882519e-02 -5.98149002e-02\n",
      " -7.25882454e-03 -1.15261320e-02 -4.79476452e-02 -3.77120567e-03\n",
      " -8.72333907e-03  1.10608405e-02 -2.16928106e-02 -3.88733274e-03\n",
      " -5.75266890e-02  8.92273635e-02  3.46912444e-02  4.11844440e-03\n",
      "  2.37226598e-02  2.22962387e-02  1.55607751e-02 -4.16705199e-03\n",
      "  5.79627305e-02 -6.87456951e-02  2.22167689e-02 -1.08683072e-02\n",
      "  1.98233314e-02 -2.65375171e-02 -9.42347720e-02  8.51115584e-03\n",
      "  4.15516570e-02  1.10130776e-02 -5.46550602e-02 -4.41494249e-02\n",
      " -1.64371114e-02  9.44013300e-04 -1.19621772e-02  7.92095251e-03\n",
      " -5.08609191e-02  1.10642910e-02 -2.92522311e-02 -2.15838756e-02\n",
      "  5.08784456e-03  6.48298347e-03  2.33051134e-03  7.08840461e-03\n",
      " -1.74646415e-02  3.15756872e-02  3.81815135e-02  1.10385856e-02\n",
      " -3.82416509e-03  9.87930689e-03 -8.96467641e-03  7.05321953e-02\n",
      " -2.33001877e-02 -5.54124378e-02 -1.12595437e-02  3.51736918e-02\n",
      " -4.21982184e-02 -3.61698680e-02 -8.80875252e-03  1.08960129e-01\n",
      " -1.63155347e-02  1.66110713e-02  1.88127787e-33  3.05887591e-02\n",
      " -5.77821843e-02  3.11487331e-03  5.86621016e-02  1.24549484e-02\n",
      "  9.19472706e-03 -1.51358685e-02  1.08762920e-01  3.97242382e-02\n",
      "  7.85244443e-03  4.40958440e-02  1.64109822e-02 -4.52098735e-02\n",
      "  3.58846299e-02 -4.65350486e-02 -4.89425436e-02 -1.31414765e-02\n",
      "  9.39006545e-03 -3.52137443e-03 -2.05451809e-02 -1.31066386e-02\n",
      " -1.02435956e-02 -1.04160176e-03 -2.67733093e-02 -1.67835429e-02\n",
      " -4.67944221e-04  2.42866855e-02  2.54318304e-02  3.38702127e-02\n",
      " -6.11550640e-03 -1.34314103e-02  4.61092778e-03  1.80055946e-02\n",
      "  3.81920226e-02 -2.35605184e-02 -3.91757376e-02 -3.28373499e-02\n",
      "  2.85749473e-02 -6.50132168e-03 -5.50702624e-02  6.17201030e-02\n",
      " -7.72012398e-02  3.10739428e-02  3.09459381e-02  6.50478294e-03\n",
      "  1.21388761e-02 -6.29498297e-03 -6.87786192e-02  3.12931836e-03\n",
      "  1.92825161e-02 -3.19017768e-02 -2.88158818e-03 -2.67981403e-02\n",
      "  7.28931278e-03  4.86136647e-03 -1.75163448e-02 -7.59899467e-02\n",
      "  2.13702675e-02 -1.42892990e-02 -1.13883605e-02 -2.76054144e-02\n",
      " -1.21152662e-02  5.91839664e-02 -2.67842598e-02 -1.15002729e-02\n",
      "  2.58566886e-02 -9.11620664e-05  4.83696237e-02  4.62363698e-02\n",
      " -7.53120258e-02  5.13478788e-03 -1.16787544e-02  1.16213290e-02\n",
      " -2.39631794e-02 -1.41084567e-02 -2.11113263e-02 -4.11418527e-02\n",
      "  5.87759633e-03  3.56107876e-02  3.31896212e-04  1.61388684e-02\n",
      " -4.78955451e-03  6.90960288e-02  1.52020352e-02  2.52600927e-02\n",
      " -7.31954128e-02 -3.00266221e-02  2.27626152e-02 -1.53328497e-02\n",
      " -4.05527689e-02 -2.31867470e-03 -4.35548313e-02  5.18498309e-02\n",
      " -8.99352017e-04  1.60349514e-02  3.83937694e-02 -5.69071472e-02\n",
      " -4.94664675e-03  2.20885519e-02  1.28705241e-02  1.96796525e-02\n",
      " -4.29094546e-02  2.18110643e-02 -8.93457886e-03  2.70239748e-02\n",
      " -1.07545201e-02 -3.98534462e-02 -1.24657331e-02 -1.25196660e-02\n",
      " -1.03962146e-01 -6.21871464e-03  7.22611323e-02  9.02383402e-03\n",
      "  6.38183728e-02 -2.05895845e-02  6.27215952e-02 -2.38803402e-02\n",
      "  9.18256342e-02 -2.83024944e-02  3.09500732e-02  6.49365112e-02\n",
      "  8.22565146e-03 -1.09533500e-03 -1.37219708e-02 -1.80607419e-02\n",
      "  8.07304159e-02  4.81991805e-02 -1.07842907e-02  8.13420564e-02\n",
      " -3.27049978e-02 -7.28953909e-03 -2.05967948e-02  4.47134599e-02\n",
      "  1.63070988e-02  1.79581053e-03  1.09867211e-02 -1.27039738e-02\n",
      " -3.27850170e-02  6.50900602e-02 -4.78903268e-04 -2.85386126e-02\n",
      " -2.74372334e-03 -6.36812225e-02  4.23654318e-02  1.65143434e-03\n",
      "  3.13973054e-03  4.60282527e-02  5.36058983e-03 -2.97403224e-02\n",
      " -2.44743172e-02  9.92361549e-03  2.29124613e-02 -3.86750810e-02\n",
      "  1.14771351e-02  3.12140211e-02 -2.80003846e-02 -5.43064065e-02\n",
      "  3.05725839e-02 -2.29196530e-02 -3.57589945e-02 -1.92061793e-02\n",
      "  1.83336977e-02  7.67034665e-03 -2.56582107e-02  2.85043810e-02\n",
      "  2.00815629e-02  2.77685579e-02  2.05491111e-02 -1.27182137e-02\n",
      " -2.23612273e-03 -4.03764173e-02 -2.74125915e-02 -8.76736653e-04\n",
      "  3.21203731e-02  7.11383298e-02  2.55092862e-03 -4.41114493e-02\n",
      "  4.40792255e-02 -3.11301164e-02 -3.60472240e-02  2.42353678e-02\n",
      " -3.34425606e-02  7.38993986e-03  9.84439161e-03 -3.90292914e-03\n",
      " -5.87045774e-02 -2.43833885e-02  4.31757607e-03 -4.67714928e-02\n",
      "  9.44293588e-02 -3.47374752e-02  2.33131852e-02 -2.46004947e-02\n",
      " -5.23759574e-02  6.38353871e-03  9.78900678e-03 -2.28213370e-02\n",
      "  4.38520946e-02  4.34201285e-02  5.60727268e-02 -2.76650060e-02\n",
      "  1.47940749e-02  1.09781548e-02  4.23554070e-02 -3.33905518e-02\n",
      " -3.98812443e-03  1.97185129e-02 -4.63401638e-02 -5.02765924e-03\n",
      "  1.03578530e-02  3.53610329e-02 -1.65351331e-02 -4.18331474e-03\n",
      " -2.24568117e-02 -3.93820889e-02  1.87926050e-02 -3.27783084e-04\n",
      " -2.10925331e-03 -2.48368680e-02  2.21954808e-02 -3.95583585e-02\n",
      " -1.47228986e-02 -2.21718475e-02  1.48010775e-02  2.10414343e-02\n",
      "  3.46695222e-02  3.61059024e-03 -2.33441032e-02 -6.25625299e-03\n",
      "  5.93010373e-02 -3.77330035e-02  4.57210653e-02  5.26406709e-03\n",
      " -7.40253786e-03 -2.21845564e-02 -8.08791518e-02 -3.33587229e-02\n",
      "  5.18460274e-02  4.92658354e-02 -2.51397882e-02  1.03879925e-02\n",
      "  5.15897647e-02  6.60071569e-03  2.76085492e-02 -5.20356419e-03\n",
      "  2.28715246e-03  5.28484173e-02  4.09332849e-02 -7.26093873e-02\n",
      "  5.64148789e-03 -2.51639746e-02 -4.91497514e-04  1.47830453e-02\n",
      "  5.69678796e-03 -3.05946488e-02  4.26300131e-02  9.23290290e-03\n",
      "  6.81655034e-02  2.74139214e-02  5.15439734e-02  8.78004730e-03\n",
      "  5.67041598e-02 -7.36127645e-02 -1.67552046e-02  2.32851133e-02\n",
      "  1.47857536e-02 -1.05093932e-02  1.08929519e-02  4.13969234e-02\n",
      "  5.75853810e-02  4.99703363e-02 -3.06576919e-02 -4.95794676e-02]\n",
      "\n"
     ]
    }
   ],
   "source": [
    "# Create a list of sentences\n",
    "sentences = [\"The Sentence Transformer library provides an easy way to create embeddings.\",\n",
    "             \"Sentences can be embedded one by one or in a list.\",\n",
    "             \"I like horses!\"]\n",
    "\n",
    "# Sentences are encoded/embedded by calling model.encode()\n",
    "embeddings = embedding_model.encode(sentences)\n",
    "embeddings_dict = dict(zip(sentences, embeddings))\n",
    "\n",
    "# See the embeddings\n",
    "for sentence, embedding in embeddings_dict.items():\n",
    "    print(f\"Sentence: {sentence}\")\n",
    "    print(f\"Embedding: {embedding}\")\n",
    "    print(\"\")"
   ]
  },
  {
   "cell_type": "code",
   "execution_count": 28,
   "id": "f79184d1-9ad9-4931-b40d-8fe797aa6f9e",
   "metadata": {},
   "outputs": [
    {
     "name": "stdout",
     "output_type": "stream",
     "text": [
      "True\n",
      "12.1\n"
     ]
    }
   ],
   "source": [
    "import torch\n",
    "print(torch.cuda.is_available())\n",
    "print(torch.version.cuda)"
   ]
  },
  {
   "cell_type": "code",
   "execution_count": 29,
   "id": "5eb89097-51a6-4354-8e4e-65bce3fb56e5",
   "metadata": {},
   "outputs": [
    {
     "data": {
      "text/plain": [
       "(768,)"
      ]
     },
     "execution_count": 29,
     "metadata": {},
     "output_type": "execute_result"
    }
   ],
   "source": [
    "embeddings[0].shape"
   ]
  },
  {
   "cell_type": "code",
   "execution_count": 33,
   "id": "2c43235f-8fed-4042-ab46-6250eeb544f3",
   "metadata": {},
   "outputs": [
    {
     "data": {
      "application/vnd.jupyter.widget-view+json": {
       "model_id": "72a212a17a59482d94186fc3d013daea",
       "version_major": 2,
       "version_minor": 0
      },
      "text/plain": [
       "  0%|          | 0/77 [00:00<?, ?it/s]"
      ]
     },
     "metadata": {},
     "output_type": "display_data"
    },
    {
     "name": "stdout",
     "output_type": "stream",
     "text": [
      "CPU times: total: 562 ms\n",
      "Wall time: 739 ms\n"
     ]
    }
   ],
   "source": [
    "%%time\n",
    "\n",
    "embedding_model.to(\"cuda\")\n",
    "\n",
    "for item in tqdm(pages_and_chunks):\n",
    "    item[\"embedding\"] = embedding_model.encode(item[\"sentence_chunk\"])"
   ]
  },
  {
   "cell_type": "code",
   "execution_count": 34,
   "id": "9235762a-c8c9-4deb-9b40-593f987e4e3a",
   "metadata": {},
   "outputs": [
    {
     "name": "stdout",
     "output_type": "stream",
     "text": [
      "CPU times: total: 0 ns\n",
      "Wall time: 0 ns\n"
     ]
    },
    {
     "data": {
      "text/plain": [
       "['Employment Law in Egypt 2021',\n",
       " 'Table of Contents.0 1 . Introduction p a g e 4 0 3 . Wages p a g e 1 0 0 4 . Vacations p a g e 1 1 0 5 . Penalties p a g e 1 4 0 6 . Termination p a g e 1 6 0 2 . Contracts p a g e 7 p a g e 1 9 0 7 . Downsizing p a g e 2 1 0 8 . Employee Representation p a g e 2 3 0 9 .']"
      ]
     },
     "execution_count": 34,
     "metadata": {},
     "output_type": "execute_result"
    }
   ],
   "source": [
    "%%time\n",
    "\n",
    "text_chunks = [item[\"sentence_chunk\"] for item in pages_and_chunks]\n",
    "text_chunks[:2]"
   ]
  },
  {
   "cell_type": "code",
   "execution_count": 35,
   "id": "ef4292d9-4d83-44d5-a3f7-4ecf822a7293",
   "metadata": {},
   "outputs": [
    {
     "name": "stdout",
     "output_type": "stream",
     "text": [
      "CPU times: total: 203 ms\n",
      "Wall time: 260 ms\n"
     ]
    },
    {
     "data": {
      "text/plain": [
       "tensor([[-0.0279, -0.0048, -0.0498,  ...,  0.0119,  0.0218,  0.0382],\n",
       "        [-0.0047, -0.0247, -0.0204,  ...,  0.0539, -0.0221,  0.0070],\n",
       "        [ 0.0059, -0.0468, -0.0079,  ...,  0.0553, -0.0149, -0.0324],\n",
       "        ...,\n",
       "        [ 0.0188,  0.0091, -0.0242,  ...,  0.0313,  0.0191,  0.0112],\n",
       "        [ 0.0081,  0.0260, -0.0071,  ...,  0.0102,  0.0115,  0.0209],\n",
       "        [-0.0220,  0.0087, -0.0282,  ..., -0.0089, -0.0099,  0.0195]],\n",
       "       device='cuda:0')"
      ]
     },
     "execution_count": 35,
     "metadata": {},
     "output_type": "execute_result"
    }
   ],
   "source": [
    "%%time\n",
    "\n",
    "# Embed all texts in batches\n",
    "text_chunk_embeddings = embedding_model.encode(text_chunks,\n",
    "                                               batch_size=32, \n",
    "                                               convert_to_tensor=True)\n",
    "text_chunk_embeddings"
   ]
  },
  {
   "cell_type": "code",
   "execution_count": 36,
   "id": "1da84b6a-12dc-401c-8e04-3e34f2f8747e",
   "metadata": {},
   "outputs": [
    {
     "data": {
      "text/html": [
       "<div>\n",
       "<style scoped>\n",
       "    .dataframe tbody tr th:only-of-type {\n",
       "        vertical-align: middle;\n",
       "    }\n",
       "\n",
       "    .dataframe tbody tr th {\n",
       "        vertical-align: top;\n",
       "    }\n",
       "\n",
       "    .dataframe thead th {\n",
       "        text-align: right;\n",
       "    }\n",
       "</style>\n",
       "<table border=\"1\" class=\"dataframe\">\n",
       "  <thead>\n",
       "    <tr style=\"text-align: right;\">\n",
       "      <th></th>\n",
       "      <th>page_number</th>\n",
       "      <th>sentence_chunk</th>\n",
       "      <th>chunk_char_count</th>\n",
       "      <th>chunk_word_count</th>\n",
       "      <th>chunk_token_count</th>\n",
       "      <th>embedding</th>\n",
       "    </tr>\n",
       "  </thead>\n",
       "  <tbody>\n",
       "    <tr>\n",
       "      <th>0</th>\n",
       "      <td>-41</td>\n",
       "      <td>Employment Law in Egypt 2021</td>\n",
       "      <td>28</td>\n",
       "      <td>5</td>\n",
       "      <td>7.00</td>\n",
       "      <td>[-0.027852124, -0.004803766, -0.04978392, -0.0...</td>\n",
       "    </tr>\n",
       "    <tr>\n",
       "      <th>1</th>\n",
       "      <td>-39</td>\n",
       "      <td>Table of Contents.0 1 . Introduction p a g e 4...</td>\n",
       "      <td>271</td>\n",
       "      <td>90</td>\n",
       "      <td>67.75</td>\n",
       "      <td>[-0.0047189086, -0.02473356, -0.020436207, -0....</td>\n",
       "    </tr>\n",
       "    <tr>\n",
       "      <th>2</th>\n",
       "      <td>-39</td>\n",
       "      <td>Collective Labour Relationships</td>\n",
       "      <td>31</td>\n",
       "      <td>3</td>\n",
       "      <td>7.75</td>\n",
       "      <td>[0.0059202136, -0.04675812, -0.007905221, -0.0...</td>\n",
       "    </tr>\n",
       "    <tr>\n",
       "      <th>3</th>\n",
       "      <td>-38</td>\n",
       "      <td>1 0 . Vocational Training p a g e 2 6 1 2 . Ch...</td>\n",
       "      <td>363</td>\n",
       "      <td>103</td>\n",
       "      <td>90.75</td>\n",
       "      <td>[-0.012350991, 0.003917511, -0.0049035633, -0....</td>\n",
       "    </tr>\n",
       "    <tr>\n",
       "      <th>4</th>\n",
       "      <td>-37</td>\n",
       "      <td>4 With a population of over 100 million and a ...</td>\n",
       "      <td>2161</td>\n",
       "      <td>347</td>\n",
       "      <td>540.25</td>\n",
       "      <td>[0.007634793, 6.725842e-05, -0.010323761, -0.0...</td>\n",
       "    </tr>\n",
       "  </tbody>\n",
       "</table>\n",
       "</div>"
      ],
      "text/plain": [
       "   page_number                                     sentence_chunk  \\\n",
       "0          -41                       Employment Law in Egypt 2021   \n",
       "1          -39  Table of Contents.0 1 . Introduction p a g e 4...   \n",
       "2          -39                    Collective Labour Relationships   \n",
       "3          -38  1 0 . Vocational Training p a g e 2 6 1 2 . Ch...   \n",
       "4          -37  4 With a population of over 100 million and a ...   \n",
       "\n",
       "   chunk_char_count  chunk_word_count  chunk_token_count  \\\n",
       "0                28                 5               7.00   \n",
       "1               271                90              67.75   \n",
       "2                31                 3               7.75   \n",
       "3               363               103              90.75   \n",
       "4              2161               347             540.25   \n",
       "\n",
       "                                           embedding  \n",
       "0  [-0.027852124, -0.004803766, -0.04978392, -0.0...  \n",
       "1  [-0.0047189086, -0.02473356, -0.020436207, -0....  \n",
       "2  [0.0059202136, -0.04675812, -0.007905221, -0.0...  \n",
       "3  [-0.012350991, 0.003917511, -0.0049035633, -0....  \n",
       "4  [0.007634793, 6.725842e-05, -0.010323761, -0.0...  "
      ]
     },
     "execution_count": 36,
     "metadata": {},
     "output_type": "execute_result"
    }
   ],
   "source": [
    "text_chunk_embeddings_df = pd.DataFrame(pages_and_chunks)\n",
    "text_chunk_embeddings_df.head()"
   ]
  },
  {
   "cell_type": "code",
   "execution_count": 37,
   "id": "f116b942-a63c-4f13-9d2f-71d51d200a6c",
   "metadata": {},
   "outputs": [],
   "source": [
    "embeddings_df_save_path = \"Employment_text_chunks_and_embeddings_df.csv\"\n",
    "text_chunk_embeddings_df.to_csv(embeddings_df_save_path, index=False)"
   ]
  },
  {
   "cell_type": "code",
   "execution_count": 38,
   "id": "706494be-8ca0-4a86-b2d2-d7886e496dcb",
   "metadata": {},
   "outputs": [
    {
     "data": {
      "text/html": [
       "<div>\n",
       "<style scoped>\n",
       "    .dataframe tbody tr th:only-of-type {\n",
       "        vertical-align: middle;\n",
       "    }\n",
       "\n",
       "    .dataframe tbody tr th {\n",
       "        vertical-align: top;\n",
       "    }\n",
       "\n",
       "    .dataframe thead th {\n",
       "        text-align: right;\n",
       "    }\n",
       "</style>\n",
       "<table border=\"1\" class=\"dataframe\">\n",
       "  <thead>\n",
       "    <tr style=\"text-align: right;\">\n",
       "      <th></th>\n",
       "      <th>page_number</th>\n",
       "      <th>sentence_chunk</th>\n",
       "      <th>chunk_char_count</th>\n",
       "      <th>chunk_word_count</th>\n",
       "      <th>chunk_token_count</th>\n",
       "      <th>embedding</th>\n",
       "    </tr>\n",
       "  </thead>\n",
       "  <tbody>\n",
       "    <tr>\n",
       "      <th>0</th>\n",
       "      <td>-41</td>\n",
       "      <td>Employment Law in Egypt 2021</td>\n",
       "      <td>28</td>\n",
       "      <td>5</td>\n",
       "      <td>7.00</td>\n",
       "      <td>[-2.78521236e-02 -4.80376603e-03 -4.97839190e-...</td>\n",
       "    </tr>\n",
       "    <tr>\n",
       "      <th>1</th>\n",
       "      <td>-39</td>\n",
       "      <td>Table of Contents.0 1 . Introduction p a g e 4...</td>\n",
       "      <td>271</td>\n",
       "      <td>90</td>\n",
       "      <td>67.75</td>\n",
       "      <td>[-4.71890857e-03 -2.47335602e-02 -2.04362068e-...</td>\n",
       "    </tr>\n",
       "    <tr>\n",
       "      <th>2</th>\n",
       "      <td>-39</td>\n",
       "      <td>Collective Labour Relationships</td>\n",
       "      <td>31</td>\n",
       "      <td>3</td>\n",
       "      <td>7.75</td>\n",
       "      <td>[ 5.92021365e-03 -4.67581190e-02 -7.90522061e-...</td>\n",
       "    </tr>\n",
       "    <tr>\n",
       "      <th>3</th>\n",
       "      <td>-38</td>\n",
       "      <td>1 0 . Vocational Training p a g e 2 6 1 2 . Ch...</td>\n",
       "      <td>363</td>\n",
       "      <td>103</td>\n",
       "      <td>90.75</td>\n",
       "      <td>[-1.23509914e-02  3.91751109e-03 -4.90356330e-...</td>\n",
       "    </tr>\n",
       "    <tr>\n",
       "      <th>4</th>\n",
       "      <td>-37</td>\n",
       "      <td>4 With a population of over 100 million and a ...</td>\n",
       "      <td>2161</td>\n",
       "      <td>347</td>\n",
       "      <td>540.25</td>\n",
       "      <td>[ 7.63479294e-03  6.72584210e-05 -1.03237610e-...</td>\n",
       "    </tr>\n",
       "  </tbody>\n",
       "</table>\n",
       "</div>"
      ],
      "text/plain": [
       "   page_number                                     sentence_chunk  \\\n",
       "0          -41                       Employment Law in Egypt 2021   \n",
       "1          -39  Table of Contents.0 1 . Introduction p a g e 4...   \n",
       "2          -39                    Collective Labour Relationships   \n",
       "3          -38  1 0 . Vocational Training p a g e 2 6 1 2 . Ch...   \n",
       "4          -37  4 With a population of over 100 million and a ...   \n",
       "\n",
       "   chunk_char_count  chunk_word_count  chunk_token_count  \\\n",
       "0                28                 5               7.00   \n",
       "1               271                90              67.75   \n",
       "2                31                 3               7.75   \n",
       "3               363               103              90.75   \n",
       "4              2161               347             540.25   \n",
       "\n",
       "                                           embedding  \n",
       "0  [-2.78521236e-02 -4.80376603e-03 -4.97839190e-...  \n",
       "1  [-4.71890857e-03 -2.47335602e-02 -2.04362068e-...  \n",
       "2  [ 5.92021365e-03 -4.67581190e-02 -7.90522061e-...  \n",
       "3  [-1.23509914e-02  3.91751109e-03 -4.90356330e-...  \n",
       "4  [ 7.63479294e-03  6.72584210e-05 -1.03237610e-...  "
      ]
     },
     "execution_count": 38,
     "metadata": {},
     "output_type": "execute_result"
    }
   ],
   "source": [
    "embeddings_df_save_path = \"Employment_text_chunks_and_embeddings_df.csv\"\n",
    "text_chunk_embeddings_df = pd.read_csv(embeddings_df_save_path)\n",
    "text_chunk_embeddings_df.head()"
   ]
  },
  {
   "cell_type": "code",
   "execution_count": null,
   "id": "a2e1ef55-d86e-4260-95a4-1ccd08775da5",
   "metadata": {},
   "outputs": [],
   "source": []
  }
 ],
 "metadata": {
  "kernelspec": {
   "display_name": "Python 3",
   "language": "python",
   "name": "python3"
  },
  "language_info": {
   "codemirror_mode": {
    "name": "ipython",
    "version": 3
   },
   "file_extension": ".py",
   "mimetype": "text/x-python",
   "name": "python",
   "nbconvert_exporter": "python",
   "pygments_lexer": "ipython3",
   "version": "3.10.10"
  }
 },
 "nbformat": 4,
 "nbformat_minor": 5
}
